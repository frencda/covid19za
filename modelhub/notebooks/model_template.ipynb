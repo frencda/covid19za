{
 "cells": [
  {
   "cell_type": "markdown",
   "metadata": {},
   "source": [
    "# ModelHub Template and SEIRD model example\n",
    "\n",
    "This notebook implements the SEIRD Model using data from the covid19za data repository. \n",
    "\n",
    "*Authors:* Tshepiso Mokoena [Github: [@TshepisoMokoena](https://github.com/TshepisoMokoena)] & Vukosi Marivate [Github: [@vukosim](https://github.com/vukosi), Twitter: [@vukosi](https://twitter.com/vukosi)]\n",
    "*Date:* 25 May 2020\n",
    "\n",
    "### Model Description\n",
    "\n",
    "TODO"
   ]
  },
  {
   "cell_type": "code",
   "execution_count": 1,
   "metadata": {},
   "outputs": [],
   "source": [
    "import pandas as pd\n",
    "import numpy as np\n",
    "import matplotlib.pyplot as plt\n",
    "\n",
    "from scipy.integrate import odeint\n",
    "\n",
    "%matplotlib inline "
   ]
  },
  {
   "cell_type": "markdown",
   "metadata": {},
   "source": [
    "## SEIRD differential equations\n",
    "\n",
    "* TODO: Reference"
   ]
  },
  {
   "cell_type": "code",
   "execution_count": 2,
   "metadata": {},
   "outputs": [],
   "source": [
    "# SEIR Differenctial equations\n",
    "def deriv(y, t, N, beta, gamma, delta, alpha, rho):\n",
    "    S, E, I, R, D = y\n",
    "    dSdt = -beta * S * I / N\n",
    "    dEdt = beta * S * I / N - delta * E\n",
    "    dIdt = delta * E - (1 - alpha) * gamma * I - alpha * rho * I\n",
    "    dRdt = (1 - alpha) * gamma * I\n",
    "    dDdt = alpha * rho * I\n",
    "    return dSdt, dEdt, dIdt, dRdt, dDdt"
   ]
  },
  {
   "cell_type": "markdown",
   "metadata": {},
   "source": [
    "## Load South Africa Data"
   ]
  },
  {
   "cell_type": "code",
   "execution_count": 3,
   "metadata": {},
   "outputs": [],
   "source": [
    "za_confirmed_url = \"https://raw.githubusercontent.com/dsfsi/covid19za/master/data/covid19za_provincial_cumulative_timeline_confirmed.csv\"\n",
    "za_recoveries_url = \"https://raw.githubusercontent.com/dsfsi/covid19za/master/data/covid19za_provincial_cumulative_timeline_recoveries.csv\"\n",
    "za_deaths_url = \"https://raw.githubusercontent.com/dsfsi/covid19za/master/data/covid19za_provincial_cumulative_timeline_deaths.csv\""
   ]
  },
  {
   "cell_type": "markdown",
   "metadata": {},
   "source": [
    "### ZA Confirmed Infections"
   ]
  },
  {
   "cell_type": "code",
   "execution_count": 4,
   "metadata": {},
   "outputs": [
    {
     "data": {
      "text/html": [
       "<div>\n",
       "<style scoped>\n",
       "    .dataframe tbody tr th:only-of-type {\n",
       "        vertical-align: middle;\n",
       "    }\n",
       "\n",
       "    .dataframe tbody tr th {\n",
       "        vertical-align: top;\n",
       "    }\n",
       "\n",
       "    .dataframe thead th {\n",
       "        text-align: right;\n",
       "    }\n",
       "</style>\n",
       "<table border=\"1\" class=\"dataframe\">\n",
       "  <thead>\n",
       "    <tr style=\"text-align: right;\">\n",
       "      <th></th>\n",
       "      <th>total_infections</th>\n",
       "    </tr>\n",
       "    <tr>\n",
       "      <th>date</th>\n",
       "      <th></th>\n",
       "    </tr>\n",
       "  </thead>\n",
       "  <tbody>\n",
       "    <tr>\n",
       "      <th>2020-03-05</th>\n",
       "      <td>1</td>\n",
       "    </tr>\n",
       "    <tr>\n",
       "      <th>2020-03-07</th>\n",
       "      <td>2</td>\n",
       "    </tr>\n",
       "    <tr>\n",
       "      <th>2020-03-08</th>\n",
       "      <td>3</td>\n",
       "    </tr>\n",
       "    <tr>\n",
       "      <th>2020-03-09</th>\n",
       "      <td>7</td>\n",
       "    </tr>\n",
       "    <tr>\n",
       "      <th>2020-03-11</th>\n",
       "      <td>13</td>\n",
       "    </tr>\n",
       "  </tbody>\n",
       "</table>\n",
       "</div>"
      ],
      "text/plain": [
       "            total_infections\n",
       "date                        \n",
       "2020-03-05                 1\n",
       "2020-03-07                 2\n",
       "2020-03-08                 3\n",
       "2020-03-09                 7\n",
       "2020-03-11                13"
      ]
     },
     "execution_count": 4,
     "metadata": {},
     "output_type": "execute_result"
    }
   ],
   "source": [
    "df_za_infections = pd.read_csv(za_confirmed_url, parse_dates=['date'], dayfirst=True)\n",
    "df_za_infections = df_za_infections[['date','total']]\n",
    "df_za_infections.rename(columns={'total':'total_infections'}, inplace=True)\n",
    "df_za_infections.set_index('date',inplace=True)\n",
    "df_za_infections.head()"
   ]
  },
  {
   "cell_type": "markdown",
   "metadata": {},
   "source": [
    "### ZA Recoveries"
   ]
  },
  {
   "cell_type": "code",
   "execution_count": 5,
   "metadata": {},
   "outputs": [
    {
     "data": {
      "text/html": [
       "<div>\n",
       "<style scoped>\n",
       "    .dataframe tbody tr th:only-of-type {\n",
       "        vertical-align: middle;\n",
       "    }\n",
       "\n",
       "    .dataframe tbody tr th {\n",
       "        vertical-align: top;\n",
       "    }\n",
       "\n",
       "    .dataframe thead th {\n",
       "        text-align: right;\n",
       "    }\n",
       "</style>\n",
       "<table border=\"1\" class=\"dataframe\">\n",
       "  <thead>\n",
       "    <tr style=\"text-align: right;\">\n",
       "      <th></th>\n",
       "      <th>total_recoveries</th>\n",
       "    </tr>\n",
       "    <tr>\n",
       "      <th>date</th>\n",
       "      <th></th>\n",
       "    </tr>\n",
       "  </thead>\n",
       "  <tbody>\n",
       "    <tr>\n",
       "      <th>2020-04-17</th>\n",
       "      <td>903</td>\n",
       "    </tr>\n",
       "    <tr>\n",
       "      <th>2020-04-18</th>\n",
       "      <td>903</td>\n",
       "    </tr>\n",
       "    <tr>\n",
       "      <th>2020-04-19</th>\n",
       "      <td>903</td>\n",
       "    </tr>\n",
       "    <tr>\n",
       "      <th>2020-04-20</th>\n",
       "      <td>1055</td>\n",
       "    </tr>\n",
       "    <tr>\n",
       "      <th>2020-04-21</th>\n",
       "      <td>1055</td>\n",
       "    </tr>\n",
       "  </tbody>\n",
       "</table>\n",
       "</div>"
      ],
      "text/plain": [
       "            total_recoveries\n",
       "date                        \n",
       "2020-04-17               903\n",
       "2020-04-18               903\n",
       "2020-04-19               903\n",
       "2020-04-20              1055\n",
       "2020-04-21              1055"
      ]
     },
     "execution_count": 5,
     "metadata": {},
     "output_type": "execute_result"
    }
   ],
   "source": [
    "df_za_recoveries = pd.read_csv(za_recoveries_url, parse_dates=['date'], dayfirst=True)\n",
    "df_za_recoveries = df_za_recoveries[['date','total']]\n",
    "df_za_recoveries.rename(columns={'total':'total_recoveries'}, inplace=True)\n",
    "df_za_recoveries.set_index('date',inplace=True)\n",
    "df_za_recoveries.head()"
   ]
  },
  {
   "cell_type": "markdown",
   "metadata": {},
   "source": [
    "### ZA Deaths"
   ]
  },
  {
   "cell_type": "code",
   "execution_count": 6,
   "metadata": {},
   "outputs": [
    {
     "data": {
      "text/html": [
       "<div>\n",
       "<style scoped>\n",
       "    .dataframe tbody tr th:only-of-type {\n",
       "        vertical-align: middle;\n",
       "    }\n",
       "\n",
       "    .dataframe tbody tr th {\n",
       "        vertical-align: top;\n",
       "    }\n",
       "\n",
       "    .dataframe thead th {\n",
       "        text-align: right;\n",
       "    }\n",
       "</style>\n",
       "<table border=\"1\" class=\"dataframe\">\n",
       "  <thead>\n",
       "    <tr style=\"text-align: right;\">\n",
       "      <th></th>\n",
       "      <th>total_deaths</th>\n",
       "    </tr>\n",
       "    <tr>\n",
       "      <th>date</th>\n",
       "      <th></th>\n",
       "    </tr>\n",
       "  </thead>\n",
       "  <tbody>\n",
       "    <tr>\n",
       "      <th>2020-03-27</th>\n",
       "      <td>1</td>\n",
       "    </tr>\n",
       "    <tr>\n",
       "      <th>2020-03-28</th>\n",
       "      <td>2</td>\n",
       "    </tr>\n",
       "    <tr>\n",
       "      <th>2020-03-30</th>\n",
       "      <td>3</td>\n",
       "    </tr>\n",
       "    <tr>\n",
       "      <th>2020-03-31</th>\n",
       "      <td>5</td>\n",
       "    </tr>\n",
       "    <tr>\n",
       "      <th>2020-04-03</th>\n",
       "      <td>9</td>\n",
       "    </tr>\n",
       "  </tbody>\n",
       "</table>\n",
       "</div>"
      ],
      "text/plain": [
       "            total_deaths\n",
       "date                    \n",
       "2020-03-27             1\n",
       "2020-03-28             2\n",
       "2020-03-30             3\n",
       "2020-03-31             5\n",
       "2020-04-03             9"
      ]
     },
     "execution_count": 6,
     "metadata": {},
     "output_type": "execute_result"
    }
   ],
   "source": [
    "df_za_deaths = pd.read_csv(za_deaths_url, parse_dates=['date'], dayfirst=True)\n",
    "df_za_deaths = df_za_deaths[['date','total']]\n",
    "df_za_deaths.rename(columns={'total':'total_deaths'}, inplace=True)\n",
    "df_za_deaths.set_index('date',inplace=True)\n",
    "df_za_deaths.head()"
   ]
  },
  {
   "cell_type": "markdown",
   "metadata": {},
   "source": [
    "## Get Population Data\n",
    "\n",
    "* TODO: Reference"
   ]
  },
  {
   "cell_type": "code",
   "execution_count": 7,
   "metadata": {},
   "outputs": [
    {
     "data": {
      "text/html": [
       "<div>\n",
       "<style scoped>\n",
       "    .dataframe tbody tr th:only-of-type {\n",
       "        vertical-align: middle;\n",
       "    }\n",
       "\n",
       "    .dataframe tbody tr th {\n",
       "        vertical-align: top;\n",
       "    }\n",
       "\n",
       "    .dataframe thead th {\n",
       "        text-align: right;\n",
       "    }\n",
       "</style>\n",
       "<table border=\"1\" class=\"dataframe\">\n",
       "  <thead>\n",
       "    <tr style=\"text-align: right;\">\n",
       "      <th></th>\n",
       "      <th>Country Name</th>\n",
       "      <th>Country Code</th>\n",
       "      <th>Year</th>\n",
       "      <th>Value</th>\n",
       "    </tr>\n",
       "  </thead>\n",
       "  <tbody>\n",
       "    <tr>\n",
       "      <th>0</th>\n",
       "      <td>Arab World</td>\n",
       "      <td>ARB</td>\n",
       "      <td>1960</td>\n",
       "      <td>92197753</td>\n",
       "    </tr>\n",
       "    <tr>\n",
       "      <th>1</th>\n",
       "      <td>Arab World</td>\n",
       "      <td>ARB</td>\n",
       "      <td>1961</td>\n",
       "      <td>94724510</td>\n",
       "    </tr>\n",
       "    <tr>\n",
       "      <th>2</th>\n",
       "      <td>Arab World</td>\n",
       "      <td>ARB</td>\n",
       "      <td>1962</td>\n",
       "      <td>97334442</td>\n",
       "    </tr>\n",
       "    <tr>\n",
       "      <th>3</th>\n",
       "      <td>Arab World</td>\n",
       "      <td>ARB</td>\n",
       "      <td>1963</td>\n",
       "      <td>100034179</td>\n",
       "    </tr>\n",
       "    <tr>\n",
       "      <th>4</th>\n",
       "      <td>Arab World</td>\n",
       "      <td>ARB</td>\n",
       "      <td>1964</td>\n",
       "      <td>102832760</td>\n",
       "    </tr>\n",
       "  </tbody>\n",
       "</table>\n",
       "</div>"
      ],
      "text/plain": [
       "  Country Name Country Code  Year      Value\n",
       "0   Arab World          ARB  1960   92197753\n",
       "1   Arab World          ARB  1961   94724510\n",
       "2   Arab World          ARB  1962   97334442\n",
       "3   Arab World          ARB  1963  100034179\n",
       "4   Arab World          ARB  1964  102832760"
      ]
     },
     "metadata": {},
     "output_type": "display_data"
    }
   ],
   "source": [
    "population_url = \"https://raw.githubusercontent.com/datasets/population/master/data/population.csv\"\n",
    "df_population = pd.read_csv(population_url)\n",
    "display(df_population.head())\n"
   ]
  },
  {
   "cell_type": "markdown",
   "metadata": {},
   "source": [
    "## Main Model: Compute SEIRDs for South Africa"
   ]
  },
  {
   "cell_type": "markdown",
   "metadata": {},
   "source": [
    "### Current Population Size"
   ]
  },
  {
   "cell_type": "code",
   "execution_count": 8,
   "metadata": {},
   "outputs": [
    {
     "data": {
      "text/plain": [
       "array([57779622], dtype=int64)"
      ]
     },
     "execution_count": 8,
     "metadata": {},
     "output_type": "execute_result"
    }
   ],
   "source": [
    "country = \"South Africa\"\n",
    "N = df_population.loc[(df_population[\"Country Name\"] == country) & (df_population[\"Year\"] == 2018)][\"Value\"].values \n",
    "N"
   ]
  },
  {
   "cell_type": "markdown",
   "metadata": {},
   "source": [
    "### Set initial conditions "
   ]
  },
  {
   "cell_type": "code",
   "execution_count": 9,
   "metadata": {},
   "outputs": [],
   "source": [
    "no_days_to_death = 14    # number of days to death after getting infection\n",
    "D = 14                   # how many days infection lasts for\n",
    "alpha = 0.002            # death rate\n",
    "#no_days_to_death = 14    # How long an\n",
    "incubation_period =  1   # number of days an exposed individual becomes infectiou"
   ]
  },
  {
   "cell_type": "markdown",
   "metadata": {},
   "source": [
    "# Run One"
   ]
  },
  {
   "cell_type": "markdown",
   "metadata": {},
   "source": [
    "### Get data from this date"
   ]
  },
  {
   "cell_type": "code",
   "execution_count": 10,
   "metadata": {},
   "outputs": [
    {
     "name": "stdout",
     "output_type": "stream",
     "text": [
      "[29240]\n",
      "[611]\n",
      "[15093]\n"
     ]
    }
   ],
   "source": [
    "date = \"2020-05-29\"\n",
    "no_infections = df_za_infections.loc[date].values\n",
    "no_deaths = df_za_deaths.loc[date].values\n",
    "no_recoveries = df_za_recoveries.loc[date].values\n",
    "\n",
    "print(no_infections)\n",
    "print(no_deaths)\n",
    "print(no_recoveries)"
   ]
  },
  {
   "cell_type": "markdown",
   "metadata": {},
   "source": [
    "### The SEIRD Model - Initial Conditions"
   ]
  },
  {
   "cell_type": "code",
   "execution_count": 11,
   "metadata": {
    "scrolled": true
   },
   "outputs": [
    {
     "data": {
      "text/plain": [
       "array([1.93732194])"
      ]
     },
     "metadata": {},
     "output_type": "display_data"
    },
    {
     "data": {
      "text/plain": [
       "array([  0.        ,   4.02684564,   8.05369128,  12.08053691,\n",
       "        16.10738255,  20.13422819,  24.16107383,  28.18791946,\n",
       "        32.2147651 ,  36.24161074,  40.26845638,  44.29530201,\n",
       "        48.32214765,  52.34899329,  56.37583893,  60.40268456,\n",
       "        64.4295302 ,  68.45637584,  72.48322148,  76.51006711,\n",
       "        80.53691275,  84.56375839,  88.59060403,  92.61744966,\n",
       "        96.6442953 , 100.67114094, 104.69798658, 108.72483221,\n",
       "       112.75167785, 116.77852349, 120.80536913, 124.83221477,\n",
       "       128.8590604 , 132.88590604, 136.91275168, 140.93959732,\n",
       "       144.96644295, 148.99328859, 153.02013423, 157.04697987,\n",
       "       161.0738255 , 165.10067114, 169.12751678, 173.15436242,\n",
       "       177.18120805, 181.20805369, 185.23489933, 189.26174497,\n",
       "       193.2885906 , 197.31543624, 201.34228188, 205.36912752,\n",
       "       209.39597315, 213.42281879, 217.44966443, 221.47651007,\n",
       "       225.5033557 , 229.53020134, 233.55704698, 237.58389262,\n",
       "       241.61073826, 245.63758389, 249.66442953, 253.69127517,\n",
       "       257.71812081, 261.74496644, 265.77181208, 269.79865772,\n",
       "       273.82550336, 277.85234899, 281.87919463, 285.90604027,\n",
       "       289.93288591, 293.95973154, 297.98657718, 302.01342282,\n",
       "       306.04026846, 310.06711409, 314.09395973, 318.12080537,\n",
       "       322.14765101, 326.17449664, 330.20134228, 334.22818792,\n",
       "       338.25503356, 342.28187919, 346.30872483, 350.33557047,\n",
       "       354.36241611, 358.38926174, 362.41610738, 366.44295302,\n",
       "       370.46979866, 374.4966443 , 378.52348993, 382.55033557,\n",
       "       386.57718121, 390.60402685, 394.63087248, 398.65771812,\n",
       "       402.68456376, 406.7114094 , 410.73825503, 414.76510067,\n",
       "       418.79194631, 422.81879195, 426.84563758, 430.87248322,\n",
       "       434.89932886, 438.9261745 , 442.95302013, 446.97986577,\n",
       "       451.00671141, 455.03355705, 459.06040268, 463.08724832,\n",
       "       467.11409396, 471.1409396 , 475.16778523, 479.19463087,\n",
       "       483.22147651, 487.24832215, 491.27516779, 495.30201342,\n",
       "       499.32885906, 503.3557047 , 507.38255034, 511.40939597,\n",
       "       515.43624161, 519.46308725, 523.48993289, 527.51677852,\n",
       "       531.54362416, 535.5704698 , 539.59731544, 543.62416107,\n",
       "       547.65100671, 551.67785235, 555.70469799, 559.73154362,\n",
       "       563.75838926, 567.7852349 , 571.81208054, 575.83892617,\n",
       "       579.86577181, 583.89261745, 587.91946309, 591.94630872,\n",
       "       595.97315436, 600.        ])"
      ]
     },
     "metadata": {},
     "output_type": "display_data"
    },
    {
     "data": {
      "text/plain": [
       "(array([57779622], dtype=int64),\n",
       " 0,\n",
       " array([29240], dtype=int64),\n",
       " array([15093], dtype=int64),\n",
       " array([611], dtype=int64))"
      ]
     },
     "metadata": {},
     "output_type": "display_data"
    }
   ],
   "source": [
    "R_0 = no_infections/no_recoveries\n",
    "\n",
    "gamma = 1.0 / D\n",
    "delta = 1.0 / incubation_period     # incubation period of five days\n",
    "beta = R_0 * gamma                  # R_0 = beta / gamma, so beta = R_0 * gamma\n",
    "rho = 1/no_days_to_death            # days from infection until death    \n",
    "S0, E0, I0, R0, D0 = N, 0, no_infections, no_recoveries, no_deaths  # initial conditions: one exposed\n",
    "\n",
    "t = np.linspace(0, 600, 150) # Grid of time points (in days)\n",
    "y0 = S0, E0, I0, R0, D0 # Initial conditions v\n",
    "\n",
    "display(R_0)\n",
    "display(t)\n",
    "display(y0)"
   ]
  },
  {
   "cell_type": "markdown",
   "metadata": {},
   "source": [
    "### Solve differential equation with chosen initial conditions"
   ]
  },
  {
   "cell_type": "code",
   "execution_count": 12,
   "metadata": {},
   "outputs": [
    {
     "name": "stdout",
     "output_type": "stream",
     "text": [
      "[57779622.         57762855.9291202  57742073.47976829 57715717.82869115\n",
      " 57682298.47234914 57639939.09543972 57586275.3358108  57518334.00498572\n",
      " 57432386.28591972 57323771.56683076 57186689.84150933 57013963.07964254\n",
      " 56796770.7243994  56524372.29960304 56183842.52843978 55759862.55882439\n",
      " 55234635.67091713 54588026.42433578 53798053.98837934 52841893.19156209\n",
      " 51697531.00376344 50346164.26658668 48775278.98834071 46982110.10787039\n",
      " 44976878.88201754 42784945.75657609 40446975.4649097  38016520.39727744\n",
      " 35555102.7784752  33125687.61496796 30786008.32768937 28583233.66806408\n",
      " 26550942.29986311 24708583.3872659  23062927.26371058 21610680.14570686\n",
      " 20341456.9361825  19240531.09298962 18291060.32729563 17475705.51146937\n",
      " 16777697.13084032 16181461.83066448 15672930.94625665 15239636.92295587\n",
      " 14870679.17360426 14556617.07330548 14289328.27402459 14061856.4958986\n",
      " 13868262.47324029 13703485.52521386 13563219.08586408 13443801.02100501\n",
      " 13342118.45134815 13255525.60191605 13181773.66558582 13118950.97290643\n",
      " 13065432.1248781  13019834.80621132 12980983.14860019 12947876.66051755\n",
      " 12919663.87727129 12895620.0101105  12875127.98123312 12857662.32511656\n",
      " 12842775.51851484 12830086.36647366 12819270.13246497 12810050.14786736\n",
      " 12802190.673769   12795490.82958688 12789779.42909095 12784910.58013224\n",
      " 12780759.94085487 12777221.53294755 12774205.02579422 12771633.42320406\n",
      " 12769441.09188385 12767572.08604574 12765978.7146268  12764620.32254382\n",
      " 12763462.2533126  12762474.96230295 12761633.26327695 12760915.68475626\n",
      " 12760303.92253372 12759782.37177047 12759337.72921999 12758958.65345591\n",
      " 12758635.47586228 12758359.95330422 12758125.05898837 12757924.80136537\n",
      " 12757754.07311547 12757608.51985094 12757484.42931628 12757378.63666485\n",
      " 12757288.44374375 12757211.55026694 12757145.99514604 12757090.10647205\n",
      " 12757042.45886988 12757001.83714774 12756967.20529869 12756937.68008433\n",
      " 12756912.50850459 12756891.04859384 12756872.75304795 12756857.15526573\n",
      " 12756843.85744884 12756832.52045637 12756822.85515545 12756814.6150473\n",
      " 12756807.58998061 12756801.60079188 12756796.49473614 12756792.14159136\n",
      " 12756788.43033739 12756785.26632451 12756782.56885955 12756780.26914789\n",
      " 12756778.30853902 12756776.6370307  12756775.21199377 12756773.9970849\n",
      " 12756772.96131978 12756772.07828285 12756771.32545366 12756770.68363249\n",
      " 12756770.13645072 12756769.66995334 12756769.27224308 12756768.93317697\n",
      " 12756768.64410767 12756768.39766292 12756768.18755755 12756768.00843316\n",
      " 12756767.85572146 12756767.72552777 12756767.61453174 12756767.51990256\n",
      " 12756767.43922687 12756767.37044718 12756767.31180935 12756767.26181793\n",
      " 12756767.21919797 12756767.18286252 12756767.15188489 12756767.12547505\n",
      " 12756767.10295946 12756767.08376389]\n",
      "[0.00000000e+00 4.27942240e+03 5.47422273e+03 6.94358650e+03\n",
      " 8.80381267e+03 1.11576745e+04 1.41333021e+04 1.78903408e+04\n",
      " 2.26266491e+04 2.85857645e+04 3.60647711e+04 4.54218342e+04\n",
      " 5.70820658e+04 7.15395219e+04 8.93519219e+04 1.11123168e+05\n",
      " 1.37467094e+05 1.68944600e+05 2.05966484e+05 2.48657502e+05\n",
      " 2.96685791e+05 3.49077549e+05 4.04059248e+05 4.58992775e+05\n",
      " 5.10479375e+05 5.54687658e+05 5.87897394e+05 6.07156498e+05\n",
      " 6.10866834e+05 5.99102165e+05 5.73545173e+05 5.37075126e+05\n",
      " 4.93162577e+05 4.45268752e+05 3.96398900e+05 3.48867519e+05\n",
      " 3.04253038e+05 2.63478807e+05 2.26953377e+05 1.94720218e+05\n",
      " 1.66588711e+05 1.42235596e+05 1.21276740e+05 1.03314062e+05\n",
      " 8.79637606e+04 7.48715809e+04 6.37195834e+04 5.42277100e+04\n",
      " 4.61523855e+04 3.92835903e+04 3.34412941e+04 2.84717773e+04\n",
      " 2.42441159e+04 2.06469778e+04 1.75857754e+04 1.49801833e+04\n",
      " 1.27619961e+04 1.08732964e+04 9.26489273e+03 7.89499406e+03\n",
      " 6.72808543e+03 5.73397601e+03 4.88699292e+03 4.16529873e+03\n",
      " 3.55031332e+03 3.02622411e+03 2.57957071e+03 2.19889283e+03\n",
      " 1.87443121e+03 1.59787396e+03 1.36214084e+03 1.16120010e+03\n",
      " 9.89912631e+02 8.43899475e+02 7.19429202e+02 6.13321752e+02\n",
      " 5.22866962e+02 4.45754978e+02 3.80017027e+02 3.23974984e+02\n",
      " 2.76198466e+02 2.35468154e+02 2.00744700e+02 1.71142086e+02\n",
      " 1.45905037e+02 1.24389677e+02 1.06047131e+02 9.04094728e+01\n",
      " 7.70778069e+01 6.57120515e+01 5.60223169e+01 4.77614265e+01\n",
      " 4.07186831e+01 3.47144527e+01 2.95955947e+01 2.52315503e+01\n",
      " 2.15110152e+01 1.83390983e+01 1.56349004e+01 1.33294531e+01\n",
      " 1.13639573e+01 9.68828504e+00 8.25969981e+00 7.04176704e+00\n",
      " 6.00342477e+00 5.11819134e+00 4.36348999e+00 3.72007305e+00\n",
      " 3.17153105e+00 2.70387419e+00 2.30517555e+00 1.96526690e+00\n",
      " 1.67547936e+00 1.42842233e+00 1.21779500e+00 1.03822563e+00\n",
      " 8.85134585e-01 7.54617511e-01 6.43345770e-01 5.48481551e-01\n",
      " 4.67605489e-01 3.98654966e-01 3.39871508e-01 2.89755935e-01\n",
      " 2.47030128e-01 2.10604432e-01 1.79549868e-01 1.53074439e-01\n",
      " 1.30502930e-01 1.11259691e-01 9.48539533e-02 8.08673150e-02\n",
      " 6.89430688e-02 5.87771060e-02 5.01101597e-02 4.27211934e-02\n",
      " 3.64217630e-02 3.10512118e-02 2.64725726e-02 2.25690741e-02\n",
      " 1.92411638e-02 1.64039687e-02 1.39851306e-02 1.19229609e-02\n",
      " 1.01648673e-02 8.66601266e-03 7.38817073e-03 6.29875223e-03\n",
      " 5.36997334e-03 4.57814703e-03]\n",
      "[2.92400000e+04 3.30711413e+04 4.19263345e+04 5.31965006e+04\n",
      " 6.74812437e+04 8.55769081e+04 1.08485009e+05 1.37461064e+05\n",
      " 1.74073421e+05 2.20272296e+05 2.78468554e+05 3.51620027e+05\n",
      " 4.43320053e+05 5.57878115e+05 7.00375175e+05 8.76666000e+05\n",
      " 1.09328746e+06 1.35721648e+06 1.67540758e+06 2.05403531e+06\n",
      " 2.49738355e+06 3.00637990e+06 3.57688233e+06 4.19799067e+06\n",
      " 4.85084099e+06 5.50846770e+06 6.13725839e+06 6.70019977e+06\n",
      " 7.16154188e+06 7.49190473e+06 7.67253561e+06 7.69761077e+06\n",
      " 7.57410786e+06 7.31954632e+06 6.95844237e+06 6.51847221e+06\n",
      " 6.02713464e+06 5.50934185e+06 4.98602201e+06 4.47359055e+06\n",
      " 3.98404858e+06 3.52546210e+06 3.10262114e+06 2.71773801e+06\n",
      " 2.37109900e+06 2.06162698e+06 1.78733990e+06 1.54570806e+06\n",
      " 1.33392160e+06 1.14908314e+06 9.88340618e+05 8.48974183e+05\n",
      " 7.28448696e+05 6.24441337e+05 5.34851779e+05 4.57800508e+05\n",
      " 3.91619520e+05 3.34838424e+05 2.86168105e+05 2.44483459e+05\n",
      " 2.08806177e+05 1.78288222e+05 1.52196383e+05 1.29898096e+05\n",
      " 1.10848622e+05 9.45795710e+04 8.06887213e+04 6.88310488e+04\n",
      " 5.87108660e+04 5.00749643e+04 4.27066583e+04 3.64206195e+04\n",
      " 3.10584142e+04 2.64846572e+04 2.25836982e+04 1.92567735e+04\n",
      " 1.64195601e+04 1.40000828e+04 1.19369151e+04 1.01776407e+04\n",
      " 8.67753984e+03 7.39846137e+03 6.30786218e+03 5.37798455e+03\n",
      " 4.58515474e+03 3.90918258e+03 3.33285023e+03 2.84147487e+03\n",
      " 2.42253641e+03 2.06535851e+03 1.76083862e+03 1.50121416e+03\n",
      " 1.27986730e+03 1.09115523e+03 9.30266852e+02 7.93100177e+02\n",
      " 6.76157886e+02 5.76458200e+02 4.91458909e+02 4.18992586e+02\n",
      " 3.57211341e+02 3.04539723e+02 2.59634555e+02 2.21350698e+02\n",
      " 1.88711853e+02 1.60885669e+02 1.37162520e+02 1.16937411e+02\n",
      " 9.96945529e+01 8.49942081e+01 7.24614780e+01 6.17767426e+01\n",
      " 5.26675102e+01 4.49014683e+01 3.82805592e+01 3.26359292e+01\n",
      " 2.78236227e+01 2.37209103e+01 2.02231599e+01 1.72411674e+01\n",
      " 1.46988823e+01 1.25314680e+01 1.06836482e+01 9.10829735e+00\n",
      " 7.76523884e+00 6.62022016e+00 5.64403948e+00 4.81180091e+00\n",
      " 4.10227958e+00 3.49738029e+00 2.98167606e+00 2.54201470e+00\n",
      " 2.16718335e+00 1.84762254e+00 1.57518239e+00 1.34291474e+00\n",
      " 1.14489599e+00 9.76075989e-01 8.32149253e-01 7.09445150e-01\n",
      " 6.04834314e-01 5.15648808e-01 4.39614101e-01 3.74791049e-01\n",
      " 3.19526445e-01 2.72410857e-01 2.32242671e-01 1.97997461e-01\n",
      " 1.68801859e-01 1.43911279e-01]\n",
      "[1.50930000e+04 2.37311961e+04 3.44421871e+04 4.80310760e+04\n",
      " 6.52709143e+04 8.71369453e+04 1.14861417e+05 1.49999237e+05\n",
      " 1.94509092e+05 2.50852908e+05 3.22116556e+05 4.12154345e+05\n",
      " 5.25758779e+05 6.68854919e+05 8.48714789e+05 1.07418085e+06\n",
      " 1.35587783e+06 1.70637815e+06 2.14026808e+06 2.67404044e+06\n",
      " 3.32572013e+06 4.11411880e+06 5.05762915e+06 6.17252191e+06\n",
      " 7.47081443e+06 8.95793236e+06 1.06305503e+07 1.24751084e+07\n",
      " 1.44674808e+07 1.65740762e+07 1.87543123e+07 2.09640536e+07\n",
      " 2.31593610e+07 2.52998856e+07 2.73514043e+07 2.92872734e+07\n",
      " 3.10888384e+07 3.27450122e+07 3.42513096e+07 3.56086090e+07\n",
      " 3.68218595e+07 3.78988761e+07 3.88493021e+07 3.96837697e+07\n",
      " 4.04132548e+07 4.10486079e+07 4.16002303e+07 4.20778686e+07\n",
      " 4.24904975e+07 4.28462687e+07 4.31525063e+07 4.34157328e+07\n",
      " 4.36417156e+07 4.38355246e+07 4.40015945e+07 4.41437891e+07\n",
      " 4.42654633e+07 4.43695218e+07 4.44584740e+07 4.45344827e+07\n",
      " 4.45994095e+07 4.46548544e+07 4.47021903e+07 4.47425950e+07\n",
      " 4.47770772e+07 4.48065005e+07 4.48316039e+07 4.48530193e+07\n",
      " 4.48712869e+07 4.48868679e+07 4.49001567e+07 4.49114899e+07\n",
      " 4.49211546e+07 4.49293963e+07 4.49364241e+07 4.49424168e+07\n",
      " 4.49475265e+07 4.49518834e+07 4.49555982e+07 4.49587656e+07\n",
      " 4.49614661e+07 4.49637686e+07 4.49657317e+07 4.49674054e+07\n",
      " 4.49688324e+07 4.49700490e+07 4.49710862e+07 4.49719705e+07\n",
      " 4.49727245e+07 4.49733672e+07 4.49739152e+07 4.49743824e+07\n",
      " 4.49747808e+07 4.49751204e+07 4.49754099e+07 4.49756567e+07\n",
      " 4.49758671e+07 4.49760465e+07 4.49761995e+07 4.49763299e+07\n",
      " 4.49764411e+07 4.49765358e+07 4.49766166e+07 4.49766855e+07\n",
      " 4.49767443e+07 4.49767943e+07 4.49768370e+07 4.49768734e+07\n",
      " 4.49769044e+07 4.49769309e+07 4.49769534e+07 4.49769727e+07\n",
      " 4.49769891e+07 4.49770030e+07 4.49770150e+07 4.49770251e+07\n",
      " 4.49770338e+07 4.49770412e+07 4.49770474e+07 4.49770528e+07\n",
      " 4.49770574e+07 4.49770613e+07 4.49770646e+07 4.49770674e+07\n",
      " 4.49770699e+07 4.49770719e+07 4.49770737e+07 4.49770752e+07\n",
      " 4.49770765e+07 4.49770775e+07 4.49770785e+07 4.49770793e+07\n",
      " 4.49770799e+07 4.49770805e+07 4.49770810e+07 4.49770814e+07\n",
      " 4.49770818e+07 4.49770821e+07 4.49770823e+07 4.49770826e+07\n",
      " 4.49770827e+07 4.49770829e+07 4.49770830e+07 4.49770832e+07\n",
      " 4.49770833e+07 4.49770833e+07 4.49770834e+07 4.49770835e+07\n",
      " 4.49770835e+07 4.49770836e+07]\n",
      "[  611.           628.3110143    649.77592608   677.0081684\n",
      "   711.55694249   755.37664398   810.93670646   881.35318085\n",
      "   970.55128714  1083.46474601  1226.27766756  1406.71411797\n",
      "  1634.37831367  1921.14412629  2281.58474838  2733.42054626\n",
      "  3297.94354924  4000.34900102  4869.86788865  5939.55199008\n",
      "  7245.52330925  8825.48056956 10716.28286141 12950.53689069\n",
      " 15552.32550133 18532.52176316 21884.4615069  25580.97066446\n",
      " 29573.70101854 33795.33498037 38164.54578598 42592.8848823\n",
      " 46992.29852067 51281.92708362 55393.18693331 59272.68424578\n",
      " 62883.03477434 66202.02050249 69220.65257654 71940.69143388\n",
      " 74372.05515217 76530.40495022 78435.06633846 80107.34601398\n",
      " 81569.24013403 82842.49274127 83947.94848984 84905.13946993\n",
      " 85732.05108268 86445.01949851 87058.72200426 87586.23003825\n",
      " 88039.10147454 88427.49616575 88760.30156004 89045.2606723\n",
      " 89289.09671725 89497.63094688 89675.89170741 89828.21377259\n",
      " 89958.32772067 90069.43958341 90164.30128589 90245.27256092\n",
      " 90314.3750928  90373.33967686 90423.6471511  90466.56382093\n",
      " 90503.17205797 90534.39666428 90561.02754345 90583.73920044\n",
      " 90603.10746453 90619.62382066 90633.70769366 90645.71696304\n",
      " 90655.95696209 90664.68815229 90672.13270657 90678.48012354\n",
      " 90683.89201676 90688.50621636 90692.44025968 90695.79437721\n",
      " 90698.65403538 90701.09211194 90703.17074684 90704.9429244\n",
      " 90706.45381984 90707.74195228 90708.84016014 90709.77644609\n",
      " 90710.5746818  90711.25522093 90711.83541647 90712.33006322\n",
      " 90712.75177471 90713.11130487 90713.41782209 90713.67914298\n",
      " 90713.90193166 90714.09186969 90714.25380089 90714.3918549\n",
      " 90714.50955244 90714.60989509 90714.69544188 90714.7683745\n",
      " 90714.83055293 90714.88356292 90714.92875638 90714.96728589\n",
      " 90715.00013406 90715.02813863 90715.05201382 90715.07236851\n",
      " 90715.08972181 90715.1045163  90715.11712927 90715.12788241\n",
      " 90715.13704995 90715.14486569 90715.15152897 90715.15720972\n",
      " 90715.16205282 90715.16618178 90715.16970191 90715.17270298\n",
      " 90715.17526153 90715.17744281 90715.17930245 90715.18088788\n",
      " 90715.18223953 90715.18339187 90715.1843743  90715.18521186\n",
      " 90715.18592592 90715.18653469 90715.18705369 90715.18749617\n",
      " 90715.18787339 90715.188195   90715.18846918 90715.18870294\n",
      " 90715.18890222 90715.18907212 90715.18921697 90715.18934046\n",
      " 90715.18944574 90715.18953549]\n"
     ]
    }
   ],
   "source": [
    "ret = odeint(deriv, y0, t, args=(N, beta, gamma, delta, alpha, rho))\n",
    "S, E, I, R, D = ret.T\n",
    "print(S)\n",
    "print(E)\n",
    "print(I)\n",
    "print(R)\n",
    "print(D)"
   ]
  },
  {
   "cell_type": "markdown",
   "metadata": {},
   "source": [
    "### Plot SEIRD curves "
   ]
  },
  {
   "cell_type": "code",
   "execution_count": 13,
   "metadata": {},
   "outputs": [
    {
     "data": {
      "image/png": "[encoded data removed]",
      "text/plain": [
       "<Figure size 1152x648 with 1 Axes>"
      ]
     },
     "metadata": {
      "needs_background": "light"
     },
     "output_type": "display_data"
    }
   ],
   "source": [
    "f, ax = plt.subplots(1,1,figsize=(16,9))\n",
    "ax.plot(t, S, 'b', alpha=0.7, linewidth=2, label='Susceptible')\n",
    "ax.plot(t, E, 'y', alpha=0.7, linewidth=2, label='Exposed')\n",
    "ax.plot(t, I, 'r', alpha=0.7, linewidth=2, label='Infected')\n",
    "ax.plot(t, R, 'g', alpha=0.7, linewidth=2, label='Recovered')\n",
    "ax.plot(t, D, 'k', alpha=0.7, linewidth=2, label='Dead')\n",
    "ax.plot(t, S+E+I+R+D, 'c--', alpha=0.7, linewidth=2, label='Total')\n",
    "ax.set_xlabel('Time (days)\\nCoronavirus COVID-19 (2019-nCoV) Data Repository for South Africa hosted by DSFSI @ University of Pretoria')\n",
    "ax.yaxis.set_tick_params(length=0)\n",
    "ax.xaxis.set_tick_params(length=0)\n",
    "ax.grid(b=True, which='major', c='w', lw=2, ls='-')\n",
    "legend = ax.legend(borderpad=2.0)\n",
    "legend.get_frame().set_alpha(0.5)\n",
    "for spine in ('top', 'right', 'bottom', 'left'):\n",
    "    ax.spines[spine].set_visible(False)"
   ]
  },
  {
   "cell_type": "markdown",
   "metadata": {},
   "source": [
    "# Run Two"
   ]
  },
  {
   "cell_type": "markdown",
   "metadata": {},
   "source": [
    "### Get data from this date"
   ]
  },
  {
   "cell_type": "code",
   "execution_count": 14,
   "metadata": {},
   "outputs": [
    {
     "name": "stdout",
     "output_type": "stream",
     "text": [
      "[40792]\n",
      "[848]\n",
      "[21311]\n"
     ]
    }
   ],
   "source": [
    "date = \"2020-06-04\"\n",
    "no_infections = df_za_infections.loc[date].values\n",
    "no_deaths = df_za_deaths.loc[date].values\n",
    "no_recoveries = df_za_recoveries.loc[date].values\n",
    "\n",
    "print(no_infections)\n",
    "print(no_deaths)\n",
    "print(no_recoveries)"
   ]
  },
  {
   "cell_type": "markdown",
   "metadata": {},
   "source": [
    "### The SEIRD Model - Initial Conditions"
   ]
  },
  {
   "cell_type": "code",
   "execution_count": 15,
   "metadata": {
    "scrolled": true
   },
   "outputs": [
    {
     "data": {
      "text/plain": [
       "array([1.91412885])"
      ]
     },
     "metadata": {},
     "output_type": "display_data"
    },
    {
     "data": {
      "text/plain": [
       "array([  0.        ,   4.02684564,   8.05369128,  12.08053691,\n",
       "        16.10738255,  20.13422819,  24.16107383,  28.18791946,\n",
       "        32.2147651 ,  36.24161074,  40.26845638,  44.29530201,\n",
       "        48.32214765,  52.34899329,  56.37583893,  60.40268456,\n",
       "        64.4295302 ,  68.45637584,  72.48322148,  76.51006711,\n",
       "        80.53691275,  84.56375839,  88.59060403,  92.61744966,\n",
       "        96.6442953 , 100.67114094, 104.69798658, 108.72483221,\n",
       "       112.75167785, 116.77852349, 120.80536913, 124.83221477,\n",
       "       128.8590604 , 132.88590604, 136.91275168, 140.93959732,\n",
       "       144.96644295, 148.99328859, 153.02013423, 157.04697987,\n",
       "       161.0738255 , 165.10067114, 169.12751678, 173.15436242,\n",
       "       177.18120805, 181.20805369, 185.23489933, 189.26174497,\n",
       "       193.2885906 , 197.31543624, 201.34228188, 205.36912752,\n",
       "       209.39597315, 213.42281879, 217.44966443, 221.47651007,\n",
       "       225.5033557 , 229.53020134, 233.55704698, 237.58389262,\n",
       "       241.61073826, 245.63758389, 249.66442953, 253.69127517,\n",
       "       257.71812081, 261.74496644, 265.77181208, 269.79865772,\n",
       "       273.82550336, 277.85234899, 281.87919463, 285.90604027,\n",
       "       289.93288591, 293.95973154, 297.98657718, 302.01342282,\n",
       "       306.04026846, 310.06711409, 314.09395973, 318.12080537,\n",
       "       322.14765101, 326.17449664, 330.20134228, 334.22818792,\n",
       "       338.25503356, 342.28187919, 346.30872483, 350.33557047,\n",
       "       354.36241611, 358.38926174, 362.41610738, 366.44295302,\n",
       "       370.46979866, 374.4966443 , 378.52348993, 382.55033557,\n",
       "       386.57718121, 390.60402685, 394.63087248, 398.65771812,\n",
       "       402.68456376, 406.7114094 , 410.73825503, 414.76510067,\n",
       "       418.79194631, 422.81879195, 426.84563758, 430.87248322,\n",
       "       434.89932886, 438.9261745 , 442.95302013, 446.97986577,\n",
       "       451.00671141, 455.03355705, 459.06040268, 463.08724832,\n",
       "       467.11409396, 471.1409396 , 475.16778523, 479.19463087,\n",
       "       483.22147651, 487.24832215, 491.27516779, 495.30201342,\n",
       "       499.32885906, 503.3557047 , 507.38255034, 511.40939597,\n",
       "       515.43624161, 519.46308725, 523.48993289, 527.51677852,\n",
       "       531.54362416, 535.5704698 , 539.59731544, 543.62416107,\n",
       "       547.65100671, 551.67785235, 555.70469799, 559.73154362,\n",
       "       563.75838926, 567.7852349 , 571.81208054, 575.83892617,\n",
       "       579.86577181, 583.89261745, 587.91946309, 591.94630872,\n",
       "       595.97315436, 600.        ])"
      ]
     },
     "metadata": {},
     "output_type": "display_data"
    },
    {
     "data": {
      "text/plain": [
       "(array([57779622], dtype=int64),\n",
       " 0,\n",
       " array([40792], dtype=int64),\n",
       " array([21311], dtype=int64),\n",
       " array([848], dtype=int64))"
      ]
     },
     "metadata": {},
     "output_type": "display_data"
    }
   ],
   "source": [
    "R_0 = no_infections/no_recoveries\n",
    "\n",
    "gamma = 1.0 / D\n",
    "delta = 1.0 / incubation_period     # incubation period of five days\n",
    "beta = R_0 * gamma                  # R_0 = beta / gamma, so beta = R_0 * gamma\n",
    "rho = 1/no_days_to_death            # days from infection until death    \n",
    "S0, E0, I0, R0, D0 = N, 0, no_infections, no_recoveries, no_deaths  # initial conditions: one exposed\n",
    "\n",
    "t = np.linspace(0, 600, 150) # Grid of time points (in days)\n",
    "y0 = S0, E0, I0, R0, D0 # Initial conditions v\n",
    "\n",
    "display(R_0)\n",
    "display(t)\n",
    "display(y0)"
   ]
  },
  {
   "cell_type": "markdown",
   "metadata": {},
   "source": [
    "### Solve differential equation with chosen initial conditions"
   ]
  },
  {
   "cell_type": "code",
   "execution_count": 16,
   "metadata": {},
   "outputs": [
    {
     "ename": "ValueError",
     "evalue": "setting an array element with a sequence.",
     "output_type": "error",
     "traceback": [
      "\u001b[1;31m---------------------------------------------------------------------------\u001b[0m",
      "\u001b[1;31mTypeError\u001b[0m                                 Traceback (most recent call last)",
      "\u001b[1;31mTypeError\u001b[0m: only size-1 arrays can be converted to Python scalars",
      "\nThe above exception was the direct cause of the following exception:\n",
      "\u001b[1;31mValueError\u001b[0m                                Traceback (most recent call last)",
      "\u001b[1;32m<ipython-input-16-a7135ab6317c>\u001b[0m in \u001b[0;36m<module>\u001b[1;34m\u001b[0m\n\u001b[1;32m----> 1\u001b[1;33m \u001b[0mret\u001b[0m \u001b[1;33m=\u001b[0m \u001b[0modeint\u001b[0m\u001b[1;33m(\u001b[0m\u001b[0mderiv\u001b[0m\u001b[1;33m,\u001b[0m \u001b[0my0\u001b[0m\u001b[1;33m,\u001b[0m \u001b[0mt\u001b[0m\u001b[1;33m,\u001b[0m \u001b[0margs\u001b[0m\u001b[1;33m=\u001b[0m\u001b[1;33m(\u001b[0m\u001b[0mN\u001b[0m\u001b[1;33m,\u001b[0m \u001b[0mbeta\u001b[0m\u001b[1;33m,\u001b[0m \u001b[0mgamma\u001b[0m\u001b[1;33m,\u001b[0m \u001b[0mdelta\u001b[0m\u001b[1;33m,\u001b[0m \u001b[0malpha\u001b[0m\u001b[1;33m,\u001b[0m \u001b[0mrho\u001b[0m\u001b[1;33m)\u001b[0m\u001b[1;33m)\u001b[0m\u001b[1;33m\u001b[0m\u001b[1;33m\u001b[0m\u001b[0m\n\u001b[0m\u001b[0;32m      2\u001b[0m \u001b[0mS\u001b[0m\u001b[1;33m,\u001b[0m \u001b[0mE\u001b[0m\u001b[1;33m,\u001b[0m \u001b[0mI\u001b[0m\u001b[1;33m,\u001b[0m \u001b[0mR\u001b[0m\u001b[1;33m,\u001b[0m \u001b[0mD\u001b[0m \u001b[1;33m=\u001b[0m \u001b[0mret\u001b[0m\u001b[1;33m.\u001b[0m\u001b[0mT\u001b[0m\u001b[1;33m\u001b[0m\u001b[1;33m\u001b[0m\u001b[0m\n\u001b[0;32m      3\u001b[0m \u001b[0mprint\u001b[0m\u001b[1;33m(\u001b[0m\u001b[0mS\u001b[0m\u001b[1;33m)\u001b[0m\u001b[1;33m\u001b[0m\u001b[1;33m\u001b[0m\u001b[0m\n\u001b[0;32m      4\u001b[0m \u001b[0mprint\u001b[0m\u001b[1;33m(\u001b[0m\u001b[0mE\u001b[0m\u001b[1;33m)\u001b[0m\u001b[1;33m\u001b[0m\u001b[1;33m\u001b[0m\u001b[0m\n\u001b[0;32m      5\u001b[0m \u001b[0mprint\u001b[0m\u001b[1;33m(\u001b[0m\u001b[0mI\u001b[0m\u001b[1;33m)\u001b[0m\u001b[1;33m\u001b[0m\u001b[1;33m\u001b[0m\u001b[0m\n",
      "\u001b[1;32m~\\AppData\\Local\\Continuum\\anaconda3\\lib\\site-packages\\scipy\\integrate\\odepack.py\u001b[0m in \u001b[0;36modeint\u001b[1;34m(func, y0, t, args, Dfun, col_deriv, full_output, ml, mu, rtol, atol, tcrit, h0, hmax, hmin, ixpr, mxstep, mxhnil, mxordn, mxords, printmessg, tfirst)\u001b[0m\n\u001b[0;32m    243\u001b[0m                              \u001b[0mfull_output\u001b[0m\u001b[1;33m,\u001b[0m \u001b[0mrtol\u001b[0m\u001b[1;33m,\u001b[0m \u001b[0matol\u001b[0m\u001b[1;33m,\u001b[0m \u001b[0mtcrit\u001b[0m\u001b[1;33m,\u001b[0m \u001b[0mh0\u001b[0m\u001b[1;33m,\u001b[0m \u001b[0mhmax\u001b[0m\u001b[1;33m,\u001b[0m \u001b[0mhmin\u001b[0m\u001b[1;33m,\u001b[0m\u001b[1;33m\u001b[0m\u001b[1;33m\u001b[0m\u001b[0m\n\u001b[0;32m    244\u001b[0m                              \u001b[0mixpr\u001b[0m\u001b[1;33m,\u001b[0m \u001b[0mmxstep\u001b[0m\u001b[1;33m,\u001b[0m \u001b[0mmxhnil\u001b[0m\u001b[1;33m,\u001b[0m \u001b[0mmxordn\u001b[0m\u001b[1;33m,\u001b[0m \u001b[0mmxords\u001b[0m\u001b[1;33m,\u001b[0m\u001b[1;33m\u001b[0m\u001b[1;33m\u001b[0m\u001b[0m\n\u001b[1;32m--> 245\u001b[1;33m                              int(bool(tfirst)))\n\u001b[0m\u001b[0;32m    246\u001b[0m     \u001b[1;32mif\u001b[0m \u001b[0moutput\u001b[0m\u001b[1;33m[\u001b[0m\u001b[1;33m-\u001b[0m\u001b[1;36m1\u001b[0m\u001b[1;33m]\u001b[0m \u001b[1;33m<\u001b[0m \u001b[1;36m0\u001b[0m\u001b[1;33m:\u001b[0m\u001b[1;33m\u001b[0m\u001b[1;33m\u001b[0m\u001b[0m\n\u001b[0;32m    247\u001b[0m         \u001b[0mwarning_msg\u001b[0m \u001b[1;33m=\u001b[0m \u001b[0m_msgs\u001b[0m\u001b[1;33m[\u001b[0m\u001b[0moutput\u001b[0m\u001b[1;33m[\u001b[0m\u001b[1;33m-\u001b[0m\u001b[1;36m1\u001b[0m\u001b[1;33m]\u001b[0m\u001b[1;33m]\u001b[0m \u001b[1;33m+\u001b[0m \u001b[1;34m\" Run with full_output = 1 to get quantitative information.\"\u001b[0m\u001b[1;33m\u001b[0m\u001b[1;33m\u001b[0m\u001b[0m\n",
      "\u001b[1;31mValueError\u001b[0m: setting an array element with a sequence."
     ]
    }
   ],
   "source": [
    "ret = odeint(deriv, y0, t, args=(N, beta, gamma, delta, alpha, rho))\n",
    "S, E, I, R, D = ret.T\n",
    "print(S)\n",
    "print(E)\n",
    "print(I)\n",
    "print(R)\n",
    "print(D)"
   ]
  },
  {
   "cell_type": "markdown",
   "metadata": {},
   "source": [
    "### Plot SEIRD curves "
   ]
  },
  {
   "cell_type": "code",
   "execution_count": null,
   "metadata": {},
   "outputs": [],
   "source": [
    "f, ax = plt.subplots(1,1,figsize=(16,9))\n",
    "ax.plot(t, S, 'b', alpha=0.7, linewidth=2, label='Susceptible')\n",
    "ax.plot(t, E, 'y', alpha=0.7, linewidth=2, label='Exposed')\n",
    "ax.plot(t, I, 'r', alpha=0.7, linewidth=2, label='Infected')\n",
    "ax.plot(t, R, 'g', alpha=0.7, linewidth=2, label='Recovered')\n",
    "ax.plot(t, D, 'k', alpha=0.7, linewidth=2, label='Dead')\n",
    "ax.plot(t, S+E+I+R+D, 'c--', alpha=0.7, linewidth=2, label='Total')\n",
    "ax.set_xlabel('Time (days)\\nCoronavirus COVID-19 (2019-nCoV) Data Repository for South Africa hosted by DSFSI @ University of Pretoria')\n",
    "ax.yaxis.set_tick_params(length=0)\n",
    "ax.xaxis.set_tick_params(length=0)\n",
    "ax.grid(b=True, which='major', c='w', lw=2, ls='-')\n",
    "legend = ax.legend(borderpad=2.0)\n",
    "legend.get_frame().set_alpha(0.5)\n",
    "for spine in ('top', 'right', 'bottom', 'left'):\n",
    "    ax.spines[spine].set_visible(False)"
   ]
  }
 ],
 "metadata": {
  "kernelspec": {
   "display_name": "Python 3",
   "language": "python",
   "name": "python3"
  },
  "language_info": {
   "codemirror_mode": {
    "name": "ipython",
    "version": 3
   },
   "file_extension": ".py",
   "mimetype": "text/x-python",
   "name": "python",
   "nbconvert_exporter": "python",
   "pygments_lexer": "ipython3",
   "version": "3.7.7"
  }
 },
 "nbformat": 4,
 "nbformat_minor": 4
}
