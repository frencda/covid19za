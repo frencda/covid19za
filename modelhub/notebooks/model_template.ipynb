{
 "cells": [
  {
   "cell_type": "markdown",
   "metadata": {},
   "source": [
    "# ModelHub Template and SEIRD model example\n",
    "\n",
    "This notebook implements the SEIRD Model using data from the covid19za data repository. \n",
    "\n",
    "*Authors:* Tshepiso Mokoena [Github: [@TshepisoMokoena](https://github.com/TshepisoMokoena)] & Vukosi Marivate [Github: [@vukosim](https://github.com/vukosi), Twitter: [@vukosi](https://twitter.com/vukosi)]\n",
    "*Date:* 25 May 2020\n",
    "\n",
    "### Model Description\n",
    "\n",
    "TODO"
   ]
  },
  {
   "cell_type": "code",
   "execution_count": 1,
   "metadata": {},
   "outputs": [
    {
     "data": {
      "text/html": [
       "        <script type=\"text/javascript\">\n",
       "        window.PlotlyConfig = {MathJaxConfig: 'local'};\n",
       "        if (window.MathJax) {MathJax.Hub.Config({SVG: {font: \"STIX-Web\"}});}\n",
       "        if (typeof require !== 'undefined') {\n",
       "        require.undef(\"plotly\");\n",
       "        requirejs.config({\n",
       "            paths: {\n",
       "                'plotly': ['https://cdn.plot.ly/plotly-latest.min']\n",
       "            }\n",
       "        });\n",
       "        require(['plotly'], function(Plotly) {\n",
       "            window._Plotly = Plotly;\n",
       "        });\n",
       "        }\n",
       "        </script>\n",
       "        "
      ]
     },
     "metadata": {},
     "output_type": "display_data"
    }
   ],
   "source": [
    "import pandas as pd\n",
    "import numpy as np\n",
    "import matplotlib.pyplot as plt\n",
    "import seaborn as sns\n",
    "import plotly.offline as py\n",
    "import plotly.graph_objects as go\n",
    "import chart_studio.tools as tls\n",
    "import chart_studio.plotly as pyo\n",
    "\n",
    "from scipy.integrate import odeint\n",
    "\n",
    "py.init_notebook_mode(connected=True)\n",
    "%matplotlib inline "
   ]
  },
  {
   "cell_type": "markdown",
   "metadata": {},
   "source": [
    "## SEIRD differential equations\n",
    "\n",
    "* TODO: Reference"
   ]
  },
  {
   "cell_type": "code",
   "execution_count": 2,
   "metadata": {},
   "outputs": [],
   "source": [
    "# SEIR Differenctial equations\n",
    "def deriv(y, t, N, beta, gamma, delta, alpha, rho):\n",
    "    S, E, I, R, D = y\n",
    "    dSdt = -beta * S * I / N\n",
    "    dEdt = beta * S * I / N - delta * E\n",
    "    dIdt = delta * E - (1 - alpha) * gamma * I - alpha * rho * I\n",
    "    dRdt = (1 - alpha) * gamma * I\n",
    "    dDdt = alpha * rho * I\n",
    "    return dSdt, dEdt, dIdt, dRdt, dDdt"
   ]
  },
  {
   "cell_type": "markdown",
   "metadata": {},
   "source": [
    "## Load South Africa Data"
   ]
  },
  {
   "cell_type": "code",
   "execution_count": 3,
   "metadata": {},
   "outputs": [],
   "source": [
    "za_confirmed_url = \"https://raw.githubusercontent.com/dsfsi/covid19za/master/data/covid19za_provincial_cumulative_timeline_confirmed.csv\"\n",
    "za_recoveries_url = \"https://raw.githubusercontent.com/dsfsi/covid19za/master/data/covid19za_provincial_cumulative_timeline_recoveries.csv\"\n",
    "za_deaths_url = \"https://raw.githubusercontent.com/dsfsi/covid19za/master/data/covid19za_provincial_cumulative_timeline_deaths.csv\""
   ]
  },
  {
   "cell_type": "markdown",
   "metadata": {},
   "source": [
    "### ZA Confirmed Infections"
   ]
  },
  {
   "cell_type": "code",
   "execution_count": 4,
   "metadata": {},
   "outputs": [
    {
     "data": {
      "text/html": [
       "<div>\n",
       "<style scoped>\n",
       "    .dataframe tbody tr th:only-of-type {\n",
       "        vertical-align: middle;\n",
       "    }\n",
       "\n",
       "    .dataframe tbody tr th {\n",
       "        vertical-align: top;\n",
       "    }\n",
       "\n",
       "    .dataframe thead th {\n",
       "        text-align: right;\n",
       "    }\n",
       "</style>\n",
       "<table border=\"1\" class=\"dataframe\">\n",
       "  <thead>\n",
       "    <tr style=\"text-align: right;\">\n",
       "      <th></th>\n",
       "      <th>total_infections</th>\n",
       "    </tr>\n",
       "    <tr>\n",
       "      <th>date</th>\n",
       "      <th></th>\n",
       "    </tr>\n",
       "  </thead>\n",
       "  <tbody>\n",
       "    <tr>\n",
       "      <th>2020-03-05</th>\n",
       "      <td>1</td>\n",
       "    </tr>\n",
       "    <tr>\n",
       "      <th>2020-03-07</th>\n",
       "      <td>2</td>\n",
       "    </tr>\n",
       "    <tr>\n",
       "      <th>2020-03-08</th>\n",
       "      <td>3</td>\n",
       "    </tr>\n",
       "    <tr>\n",
       "      <th>2020-03-09</th>\n",
       "      <td>7</td>\n",
       "    </tr>\n",
       "    <tr>\n",
       "      <th>2020-03-11</th>\n",
       "      <td>13</td>\n",
       "    </tr>\n",
       "  </tbody>\n",
       "</table>\n",
       "</div>"
      ],
      "text/plain": [
       "            total_infections\n",
       "date                        \n",
       "2020-03-05                 1\n",
       "2020-03-07                 2\n",
       "2020-03-08                 3\n",
       "2020-03-09                 7\n",
       "2020-03-11                13"
      ]
     },
     "execution_count": 4,
     "metadata": {},
     "output_type": "execute_result"
    }
   ],
   "source": [
    "df_za_infections = pd.read_csv(za_confirmed_url, parse_dates=['date'], dayfirst=True)\n",
    "df_za_infections = df_za_infections[['date','total']]\n",
    "df_za_infections.rename(columns={'total':'total_infections'}, inplace=True)\n",
    "df_za_infections.set_index('date',inplace=True)\n",
    "df_za_infections.head()"
   ]
  },
  {
   "cell_type": "markdown",
   "metadata": {},
   "source": [
    "### ZA Recoveries"
   ]
  },
  {
   "cell_type": "code",
   "execution_count": 5,
   "metadata": {},
   "outputs": [
    {
     "data": {
      "text/html": [
       "<div>\n",
       "<style scoped>\n",
       "    .dataframe tbody tr th:only-of-type {\n",
       "        vertical-align: middle;\n",
       "    }\n",
       "\n",
       "    .dataframe tbody tr th {\n",
       "        vertical-align: top;\n",
       "    }\n",
       "\n",
       "    .dataframe thead th {\n",
       "        text-align: right;\n",
       "    }\n",
       "</style>\n",
       "<table border=\"1\" class=\"dataframe\">\n",
       "  <thead>\n",
       "    <tr style=\"text-align: right;\">\n",
       "      <th></th>\n",
       "      <th>total_recoveries</th>\n",
       "    </tr>\n",
       "    <tr>\n",
       "      <th>date</th>\n",
       "      <th></th>\n",
       "    </tr>\n",
       "  </thead>\n",
       "  <tbody>\n",
       "    <tr>\n",
       "      <th>2020-04-17</th>\n",
       "      <td>903</td>\n",
       "    </tr>\n",
       "    <tr>\n",
       "      <th>2020-04-18</th>\n",
       "      <td>903</td>\n",
       "    </tr>\n",
       "    <tr>\n",
       "      <th>2020-04-19</th>\n",
       "      <td>903</td>\n",
       "    </tr>\n",
       "    <tr>\n",
       "      <th>2020-04-20</th>\n",
       "      <td>1055</td>\n",
       "    </tr>\n",
       "    <tr>\n",
       "      <th>2020-04-21</th>\n",
       "      <td>1055</td>\n",
       "    </tr>\n",
       "  </tbody>\n",
       "</table>\n",
       "</div>"
      ],
      "text/plain": [
       "            total_recoveries\n",
       "date                        \n",
       "2020-04-17               903\n",
       "2020-04-18               903\n",
       "2020-04-19               903\n",
       "2020-04-20              1055\n",
       "2020-04-21              1055"
      ]
     },
     "execution_count": 5,
     "metadata": {},
     "output_type": "execute_result"
    }
   ],
   "source": [
    "df_za_recoveries = pd.read_csv(za_recoveries_url, parse_dates=['date'], dayfirst=True)\n",
    "df_za_recoveries = df_za_recoveries[['date','total']]\n",
    "df_za_recoveries.rename(columns={'total':'total_recoveries'}, inplace=True)\n",
    "df_za_recoveries.set_index('date',inplace=True)\n",
    "df_za_recoveries.head()"
   ]
  },
  {
   "cell_type": "markdown",
   "metadata": {},
   "source": [
    "### ZA Deaths"
   ]
  },
  {
   "cell_type": "code",
   "execution_count": 6,
   "metadata": {},
   "outputs": [
    {
     "data": {
      "text/html": [
       "<div>\n",
       "<style scoped>\n",
       "    .dataframe tbody tr th:only-of-type {\n",
       "        vertical-align: middle;\n",
       "    }\n",
       "\n",
       "    .dataframe tbody tr th {\n",
       "        vertical-align: top;\n",
       "    }\n",
       "\n",
       "    .dataframe thead th {\n",
       "        text-align: right;\n",
       "    }\n",
       "</style>\n",
       "<table border=\"1\" class=\"dataframe\">\n",
       "  <thead>\n",
       "    <tr style=\"text-align: right;\">\n",
       "      <th></th>\n",
       "      <th>total_deaths</th>\n",
       "    </tr>\n",
       "    <tr>\n",
       "      <th>date</th>\n",
       "      <th></th>\n",
       "    </tr>\n",
       "  </thead>\n",
       "  <tbody>\n",
       "    <tr>\n",
       "      <th>2020-03-27</th>\n",
       "      <td>1</td>\n",
       "    </tr>\n",
       "    <tr>\n",
       "      <th>2020-03-28</th>\n",
       "      <td>2</td>\n",
       "    </tr>\n",
       "    <tr>\n",
       "      <th>2020-03-30</th>\n",
       "      <td>3</td>\n",
       "    </tr>\n",
       "    <tr>\n",
       "      <th>2020-03-31</th>\n",
       "      <td>5</td>\n",
       "    </tr>\n",
       "    <tr>\n",
       "      <th>2020-04-03</th>\n",
       "      <td>9</td>\n",
       "    </tr>\n",
       "  </tbody>\n",
       "</table>\n",
       "</div>"
      ],
      "text/plain": [
       "            total_deaths\n",
       "date                    \n",
       "2020-03-27             1\n",
       "2020-03-28             2\n",
       "2020-03-30             3\n",
       "2020-03-31             5\n",
       "2020-04-03             9"
      ]
     },
     "execution_count": 6,
     "metadata": {},
     "output_type": "execute_result"
    }
   ],
   "source": [
    "df_za_deaths = pd.read_csv(za_deaths_url, parse_dates=['date'], dayfirst=True)\n",
    "df_za_deaths = df_za_deaths[['date','total']]\n",
    "df_za_deaths.rename(columns={'total':'total_deaths'}, inplace=True)\n",
    "df_za_deaths.set_index('date',inplace=True)\n",
    "df_za_deaths.head()"
   ]
  },
  {
   "cell_type": "markdown",
   "metadata": {},
   "source": [
    "## Get Population Data\n",
    "\n",
    "* TODO: Reference"
   ]
  },
  {
   "cell_type": "code",
   "execution_count": 7,
   "metadata": {},
   "outputs": [
    {
     "data": {
      "text/html": [
       "<div>\n",
       "<style scoped>\n",
       "    .dataframe tbody tr th:only-of-type {\n",
       "        vertical-align: middle;\n",
       "    }\n",
       "\n",
       "    .dataframe tbody tr th {\n",
       "        vertical-align: top;\n",
       "    }\n",
       "\n",
       "    .dataframe thead th {\n",
       "        text-align: right;\n",
       "    }\n",
       "</style>\n",
       "<table border=\"1\" class=\"dataframe\">\n",
       "  <thead>\n",
       "    <tr style=\"text-align: right;\">\n",
       "      <th></th>\n",
       "      <th>Country Name</th>\n",
       "      <th>Country Code</th>\n",
       "      <th>Year</th>\n",
       "      <th>Value</th>\n",
       "    </tr>\n",
       "  </thead>\n",
       "  <tbody>\n",
       "    <tr>\n",
       "      <th>0</th>\n",
       "      <td>Arab World</td>\n",
       "      <td>ARB</td>\n",
       "      <td>1960</td>\n",
       "      <td>92197753</td>\n",
       "    </tr>\n",
       "    <tr>\n",
       "      <th>1</th>\n",
       "      <td>Arab World</td>\n",
       "      <td>ARB</td>\n",
       "      <td>1961</td>\n",
       "      <td>94724510</td>\n",
       "    </tr>\n",
       "    <tr>\n",
       "      <th>2</th>\n",
       "      <td>Arab World</td>\n",
       "      <td>ARB</td>\n",
       "      <td>1962</td>\n",
       "      <td>97334442</td>\n",
       "    </tr>\n",
       "    <tr>\n",
       "      <th>3</th>\n",
       "      <td>Arab World</td>\n",
       "      <td>ARB</td>\n",
       "      <td>1963</td>\n",
       "      <td>100034179</td>\n",
       "    </tr>\n",
       "    <tr>\n",
       "      <th>4</th>\n",
       "      <td>Arab World</td>\n",
       "      <td>ARB</td>\n",
       "      <td>1964</td>\n",
       "      <td>102832760</td>\n",
       "    </tr>\n",
       "  </tbody>\n",
       "</table>\n",
       "</div>"
      ],
      "text/plain": [
       "  Country Name Country Code  Year      Value\n",
       "0   Arab World          ARB  1960   92197753\n",
       "1   Arab World          ARB  1961   94724510\n",
       "2   Arab World          ARB  1962   97334442\n",
       "3   Arab World          ARB  1963  100034179\n",
       "4   Arab World          ARB  1964  102832760"
      ]
     },
     "metadata": {},
     "output_type": "display_data"
    }
   ],
   "source": [
    "population_url = \"https://raw.githubusercontent.com/datasets/population/master/data/population.csv\"\n",
    "df_population = pd.read_csv(population_url)\n",
    "display(df_population.head())\n"
   ]
  },
  {
   "cell_type": "markdown",
   "metadata": {},
   "source": [
    "## Main Model: Compute SEIRDs for South Africa"
   ]
  },
  {
   "cell_type": "markdown",
   "metadata": {},
   "source": [
    "### Current Population Size"
   ]
  },
  {
   "cell_type": "code",
   "execution_count": 8,
   "metadata": {},
   "outputs": [
    {
     "data": {
      "text/plain": [
       "array([57779622], dtype=int64)"
      ]
     },
     "execution_count": 8,
     "metadata": {},
     "output_type": "execute_result"
    }
   ],
   "source": [
    "country = \"South Africa\"\n",
    "N = df_population.loc[(df_population[\"Country Name\"] == country) & (df_population[\"Year\"] == 2018)][\"Value\"].values \n",
    "N"
   ]
  },
  {
   "cell_type": "markdown",
   "metadata": {},
   "source": [
    "### Set initial conditions "
   ]
  },
  {
   "cell_type": "code",
   "execution_count": 9,
   "metadata": {},
   "outputs": [],
   "source": [
    "no_days_to_death = 14    # number of days to death after getting infection\n",
    "D = 14                   # how many days infection lasts for\n",
    "alpha = 0.002            # death rate\n",
    "#no_days_to_death = 14    # How long an\n",
    "incubation_period =  1   # number of days an exposed individual becomes infectiou"
   ]
  },
  {
   "cell_type": "markdown",
   "metadata": {},
   "source": [
    "# Run One"
   ]
  },
  {
   "cell_type": "markdown",
   "metadata": {},
   "source": [
    "### Get data from this date"
   ]
  },
  {
   "cell_type": "code",
   "execution_count": 10,
   "metadata": {},
   "outputs": [
    {
     "name": "stdout",
     "output_type": "stream",
     "text": [
      "[6336]\n",
      "[123]\n",
      "[2549]\n"
     ]
    }
   ],
   "source": [
    "date = \"2020-05-02\"\n",
    "no_infections = df_za_infections.loc[date].values\n",
    "no_deaths = df_za_deaths.loc[date].values\n",
    "no_recoveries = df_za_recoveries.loc[date].values\n",
    "\n",
    "print(no_infections)\n",
    "print(no_deaths)\n",
    "print(no_recoveries)"
   ]
  },
  {
   "cell_type": "markdown",
   "metadata": {},
   "source": [
    "### The SEIRD Model - Initial Conditions"
   ]
  },
  {
   "cell_type": "code",
   "execution_count": 11,
   "metadata": {
    "scrolled": true
   },
   "outputs": [
    {
     "data": {
      "text/plain": [
       "array([2.48568066])"
      ]
     },
     "metadata": {},
     "output_type": "display_data"
    },
    {
     "data": {
      "text/plain": [
       "array([  0.        ,   4.02684564,   8.05369128,  12.08053691,\n",
       "        16.10738255,  20.13422819,  24.16107383,  28.18791946,\n",
       "        32.2147651 ,  36.24161074,  40.26845638,  44.29530201,\n",
       "        48.32214765,  52.34899329,  56.37583893,  60.40268456,\n",
       "        64.4295302 ,  68.45637584,  72.48322148,  76.51006711,\n",
       "        80.53691275,  84.56375839,  88.59060403,  92.61744966,\n",
       "        96.6442953 , 100.67114094, 104.69798658, 108.72483221,\n",
       "       112.75167785, 116.77852349, 120.80536913, 124.83221477,\n",
       "       128.8590604 , 132.88590604, 136.91275168, 140.93959732,\n",
       "       144.96644295, 148.99328859, 153.02013423, 157.04697987,\n",
       "       161.0738255 , 165.10067114, 169.12751678, 173.15436242,\n",
       "       177.18120805, 181.20805369, 185.23489933, 189.26174497,\n",
       "       193.2885906 , 197.31543624, 201.34228188, 205.36912752,\n",
       "       209.39597315, 213.42281879, 217.44966443, 221.47651007,\n",
       "       225.5033557 , 229.53020134, 233.55704698, 237.58389262,\n",
       "       241.61073826, 245.63758389, 249.66442953, 253.69127517,\n",
       "       257.71812081, 261.74496644, 265.77181208, 269.79865772,\n",
       "       273.82550336, 277.85234899, 281.87919463, 285.90604027,\n",
       "       289.93288591, 293.95973154, 297.98657718, 302.01342282,\n",
       "       306.04026846, 310.06711409, 314.09395973, 318.12080537,\n",
       "       322.14765101, 326.17449664, 330.20134228, 334.22818792,\n",
       "       338.25503356, 342.28187919, 346.30872483, 350.33557047,\n",
       "       354.36241611, 358.38926174, 362.41610738, 366.44295302,\n",
       "       370.46979866, 374.4966443 , 378.52348993, 382.55033557,\n",
       "       386.57718121, 390.60402685, 394.63087248, 398.65771812,\n",
       "       402.68456376, 406.7114094 , 410.73825503, 414.76510067,\n",
       "       418.79194631, 422.81879195, 426.84563758, 430.87248322,\n",
       "       434.89932886, 438.9261745 , 442.95302013, 446.97986577,\n",
       "       451.00671141, 455.03355705, 459.06040268, 463.08724832,\n",
       "       467.11409396, 471.1409396 , 475.16778523, 479.19463087,\n",
       "       483.22147651, 487.24832215, 491.27516779, 495.30201342,\n",
       "       499.32885906, 503.3557047 , 507.38255034, 511.40939597,\n",
       "       515.43624161, 519.46308725, 523.48993289, 527.51677852,\n",
       "       531.54362416, 535.5704698 , 539.59731544, 543.62416107,\n",
       "       547.65100671, 551.67785235, 555.70469799, 559.73154362,\n",
       "       563.75838926, 567.7852349 , 571.81208054, 575.83892617,\n",
       "       579.86577181, 583.89261745, 587.91946309, 591.94630872,\n",
       "       595.97315436, 600.        ])"
      ]
     },
     "metadata": {},
     "output_type": "display_data"
    },
    {
     "data": {
      "text/plain": [
       "(array([57779622], dtype=int64),\n",
       " 0,\n",
       " array([6336], dtype=int64),\n",
       " array([2549], dtype=int64),\n",
       " array([123], dtype=int64))"
      ]
     },
     "metadata": {},
     "output_type": "display_data"
    }
   ],
   "source": [
    "R_0 = no_infections/no_recoveries\n",
    "\n",
    "gamma = 1.0 / D\n",
    "delta = 1.0 / incubation_period     # incubation period of five days\n",
    "beta = R_0 * gamma                  # R_0 = beta / gamma, so beta = R_0 * gamma\n",
    "rho = 1/no_days_to_death            # days from infection until death    \n",
    "S0, E0, I0, R0, D0 = N, 0, no_infections, no_recoveries, no_deaths  # initial conditions: one exposed\n",
    "\n",
    "t = np.linspace(0, 600, 150) # Grid of time points (in days)\n",
    "y0 = S0, E0, I0, R0, D0 # Initial conditions v\n",
    "\n",
    "display(R_0)\n",
    "display(t)\n",
    "display(y0)"
   ]
  },
  {
   "cell_type": "markdown",
   "metadata": {},
   "source": [
    "### Solve differential equation with chosen initial conditions"
   ]
  },
  {
   "cell_type": "code",
   "execution_count": 12,
   "metadata": {},
   "outputs": [
    {
     "name": "stdout",
     "output_type": "stream",
     "text": [
      "[57779622.         57774733.62531896 57767853.44082005 57757921.4614669\n",
      " 57743583.92048372 57722891.32666957 57693036.66045693 57649983.67921137\n",
      " 57587940.10621382 57498617.41548781 57370204.13561105 57185969.43031338\n",
      " 56922420.37030112 56546986.33746679 56015345.47103981 55268822.2959317\n",
      " 54232874.97503698 52818616.57257262 50930392.48366369 48482855.93284772\n",
      " 45428990.9120684  41794154.4472539  37701378.01398811 33367644.63558261\n",
      " 29060969.97673354 25033297.22443593 21462982.39217205 18432708.72606156\n",
      " 15942735.70564104 13941249.06411121 12353779.04914158 11103262.26303371\n",
      " 10120426.71450124  9347479.2891418   8738167.4259905   8256302.71324951\n",
      "  7873882.32113662  7569321.52099113  7325974.10924151  7130962.55620145\n",
      "  6974279.8871319   6848110.02084276  6746316.25180412  6664056.29149761\n",
      "  6597491.5858471   6543566.64135491  6499840.41590392  6464356.60032515\n",
      "  6435543.12967424  6412133.82387713  6393106.90928404  6377636.51673079\n",
      "  6365054.22797277  6354818.46000794  6346489.99428605  6339712.3627886\n",
      "  6334196.0766584   6329705.92453386  6326050.7128321   6323074.97753086\n",
      "  6320652.27157592  6318679.72526383  6317073.63421176  6315765.87904116\n",
      "  6314701.01633735  6313833.91542516  6313127.83707179  6312552.87125783\n",
      "  6312084.66638437  6311703.3953911   6311392.91457008  6311140.07887969\n",
      "  6310934.18469103  6310766.51617728  6310629.97603911  6310518.78486939\n",
      "  6310428.23638407  6310354.49813261  6310294.44922731  6310245.54821456\n",
      "  6310205.72548515  6310173.29566621  6310146.88628078  6310125.37965466\n",
      "  6310107.86560989  6310093.60294188  6310081.98804899  6310072.52938623\n",
      "  6310064.82666197  6310058.55389681  6310053.44562784  6310049.28567385\n",
      "  6310045.89798643  6310043.13919947  6310040.89256187  6310039.06299664\n",
      "  6310037.57307719  6310036.35975067  6310035.37166954  6310034.5670186\n",
      "  6310033.91174533  6310033.37811883  6310032.94355625  6310032.58966708\n",
      "  6310032.30147489  6310032.0667835   6310031.87566087  6310031.72001878\n",
      "  6310031.59327052  6310031.49005216  6310031.40599555  6310031.33754344\n",
      "  6310031.28179896  6310031.23640305  6310031.19943455  6310031.169329\n",
      "  6310031.14481232  6310031.12484698  6310031.10858807  6310031.0953475\n",
      "  6310031.08456495  6310031.07578411  6310031.06863336  6310031.0628101\n",
      "  6310031.05806788  6310031.05420602  6310031.05106109  6310031.04849999\n",
      "  6310031.04641435  6310031.04471588  6310031.04333273  6310031.04220635\n",
      "  6310031.04128907  6310031.04054207  6310031.03993376  6310031.03943837\n",
      "  6310031.03903494  6310031.03870641  6310031.03843887  6310031.038221\n",
      "  6310031.03804357  6310031.03789908  6310031.03778141  6310031.03768559\n",
      "  6310031.03760756  6310031.03754401  6310031.03749226  6310031.03745012\n",
      "  6310031.0374158   6310031.03738785]\n",
      "[0.00000000e+00 1.28717204e+03 1.87050373e+03 2.70066237e+03\n",
      " 3.89842817e+03 5.62601183e+03 8.11625826e+03 1.17027031e+04\n",
      " 1.68613475e+04 2.42678480e+04 3.48737045e+04 5.00033573e+04\n",
      " 7.14687211e+04 1.01684631e+05 1.43741748e+05 2.01344480e+05\n",
      " 2.78446762e+05 3.78336625e+05 5.01911614e+05 6.45134991e+05\n",
      " 7.96400336e+05 9.35692240e+05 1.03800858e+06 1.08170034e+06\n",
      " 1.05800418e+06 9.75172409e+05 8.53931044e+05 7.17970559e+05\n",
      " 5.86057921e+05 4.69106512e+05 3.71208957e+05 2.92135673e+05\n",
      " 2.29586699e+05 1.80643404e+05 1.42509749e+05 1.12801945e+05\n",
      " 8.96039125e+04 7.14225875e+04 5.71124886e+04 4.58003381e+04\n",
      " 3.68208271e+04 2.96656975e+04 2.39448376e+04 1.93571023e+04\n",
      " 1.56686077e+04 1.26966125e+04 1.02975197e+04 8.35790135e+03\n",
      " 6.78774109e+03 5.51530800e+03 4.48323869e+03 3.64551957e+03\n",
      " 2.96514583e+03 2.41229275e+03 1.96287880e+03 1.59743016e+03\n",
      " 1.30017929e+03 1.05834637e+03 8.61564241e+02 7.01416898e+02\n",
      " 5.71068505e+02 4.64963940e+02 3.78587179e+02 3.08265694e+02\n",
      " 2.51012192e+02 2.04396214e+02 1.66440009e+02 1.35533979e+02\n",
      " 1.10368007e+02 8.98756233e+01 7.31886344e+01 5.96002153e+01\n",
      " 4.85348858e+01 3.95240849e+01 3.21862931e+01 2.62108546e+01\n",
      " 2.13448093e+01 1.73821741e+01 1.41552157e+01 1.15273470e+01\n",
      " 9.38734169e+00 7.64462527e+00 6.22543973e+00 5.06972117e+00\n",
      " 4.12855700e+00 3.36211555e+00 2.73795999e+00 2.22967545e+00\n",
      " 1.81575095e+00 1.47866901e+00 1.20416420e+00 9.80619422e-01\n",
      " 7.98574253e-01 6.50324542e-01 5.29596377e-01 4.31280562e-01\n",
      " 3.51216394e-01 2.86015576e-01 2.32918830e-01 1.89679119e-01\n",
      " 1.54466552e-01 1.25790947e-01 1.02438763e-01 8.34217449e-02\n",
      " 6.79350993e-02 5.53234382e-02 4.50530411e-02 3.66892693e-02\n",
      " 2.98781714e-02 2.43315047e-02 1.98145369e-02 1.61361115e-02\n",
      " 1.31405592e-02 1.07011095e-02 8.71452600e-03 7.09673744e-03\n",
      " 5.77927964e-03 4.70639833e-03 3.83268964e-03 3.12117871e-03\n",
      " 2.54175463e-03 2.06989643e-03 1.68563525e-03 1.37270938e-03\n",
      " 1.11787601e-03 9.10350550e-04 7.41350683e-04 6.03724449e-04\n",
      " 4.91647532e-04 4.00376852e-04 3.26049943e-04 2.65521259e-04\n",
      " 2.16229259e-04 1.76087949e-04 1.43398587e-04 1.16777819e-04\n",
      " 9.50989681e-05 7.74446155e-05 6.30677218e-05 5.13597817e-05\n",
      " 4.18253103e-05 3.40608181e-05 2.77377824e-05 2.25885676e-05\n",
      " 1.83952432e-05 1.49803642e-05 1.21994437e-05 9.93478679e-06\n",
      " 8.09054098e-06 6.58864364e-06]\n",
      "[6.33600000e+03 7.97050533e+03 1.14990313e+04 1.66040165e+04\n",
      " 2.39728540e+04 3.46064564e+04 4.99453014e+04 7.20589687e+04\n",
      " 1.03913902e+05 1.49747590e+05 2.15583266e+05 3.09920849e+05\n",
      " 4.44629335e+05 6.36026398e+05 9.06032629e+05 1.28308149e+06\n",
      " 1.80209218e+06 2.50224535e+06 3.42068690e+06 4.58019367e+06\n",
      " 5.97047937e+06 7.52753167e+06 9.12236702e+06 1.05739643e+07\n",
      " 1.16920945e+07 1.23346973e+07 1.24493811e+07 1.20776584e+07\n",
      " 1.13261509e+07 1.03262437e+07 9.20152462e+06 8.05033849e+06\n",
      " 6.94130454e+06 5.91640147e+06 4.99699027e+06 4.19002294e+06\n",
      " 3.49323315e+06 2.89901131e+06 2.39708517e+06 1.97626128e+06\n",
      " 1.62548613e+06 1.33444187e+06 1.09383745e+06 8.95509487e+05\n",
      " 7.32410003e+05 5.98532076e+05 4.88805558e+05 3.98982702e+05\n",
      " 3.25525225e+05 2.65499094e+05 2.16479992e+05 1.76470429e+05\n",
      " 1.43828302e+05 1.17206112e+05 9.54997106e+04 7.78054144e+04\n",
      " 6.33843057e+04 5.16326594e+04 4.20575048e+04 3.42565148e+04\n",
      " 2.79014718e+04 2.27247045e+04 1.85079765e+04 1.50733970e+04\n",
      " 1.22759871e+04 9.99760729e+03 8.14200077e+03 6.63074722e+03\n",
      " 5.39996281e+03 4.39760875e+03 3.58129744e+03 2.91650384e+03\n",
      " 2.37510808e+03 1.93420771e+03 1.57515015e+03 1.28274427e+03\n",
      " 1.04461828e+03 8.50696567e+02 6.92773631e+02 5.64167027e+02\n",
      " 4.59434699e+02 3.74144765e+02 3.04688023e+02 2.48125245e+02\n",
      " 2.02062820e+02 1.64551473e+02 1.34003784e+02 1.09127018e+02\n",
      " 8.88684216e+01 7.23706716e+01 5.89355995e+01 4.79946448e+01\n",
      " 3.90847948e+01 3.18289910e+01 2.59201729e+01 2.11082828e+01\n",
      " 1.71896844e+01 1.39985449e+01 1.13998170e+01 9.28352393e+00\n",
      " 7.56010517e+00 6.15662654e+00 5.01369349e+00 4.08293765e+00\n",
      " 3.32496986e+00 2.70771330e+00 2.20504593e+00 1.79569512e+00\n",
      " 1.46233732e+00 1.19086498e+00 9.69789526e-01 7.89755128e-01\n",
      " 6.43142810e-01 5.23748007e-01 4.26517983e-01 3.47338014e-01\n",
      " 2.82857234e-01 2.30346843e-01 1.87584624e-01 1.52760904e-01\n",
      " 1.24401956e-01 1.01307641e-01 8.25006159e-02 6.71849796e-02\n",
      " 5.47125837e-02 4.45555949e-02 3.62841772e-02 2.95482899e-02\n",
      " 2.40628715e-02 1.95957797e-02 1.59579726e-02 1.29954968e-02\n",
      " 1.05829818e-02 8.61833204e-03 7.01840557e-03 5.71549630e-03\n",
      " 4.65446097e-03 3.79039802e-03 3.08674485e-03 2.51371918e-03\n",
      " 2.04707031e-03 1.66705015e-03 1.35757967e-03 1.10555990e-03\n",
      " 9.00324612e-04 7.33189036e-04 5.97081502e-04 4.86241631e-04\n",
      " 3.95978085e-04 3.22470215e-04]\n",
      "[2.54900000e+03 4.51176392e+03 7.27455406e+03 1.12633959e+04\n",
      " 1.70227918e+04 2.53375367e+04 3.73390603e+04 5.46572236e+04\n",
      " 7.96371594e+04 1.15647496e+05 1.67515300e+05 2.42133234e+05\n",
      " 3.49293694e+05 5.02807112e+05 7.21945476e+05 1.03319331e+06\n",
      " 1.47214799e+06 2.08513493e+06 2.92965007e+06 4.07216686e+06\n",
      " 5.58145621e+06 7.51607148e+06 9.90690497e+06 1.27396724e+07\n",
      " 1.59454886e+07 1.94064545e+07 2.29761731e+07 2.65070541e+07\n",
      " 2.98737005e+07 3.29858090e+07 3.57902755e+07 3.82660901e+07\n",
      " 4.04161998e+07 4.22593000e+07 4.38230230e+07 4.51389257e+07\n",
      " 4.62391291e+07 4.71542592e+07 4.79123237e+07 4.85382170e+07\n",
      " 4.90536214e+07 4.94771419e+07 4.98245647e+07 5.01091700e+07\n",
      " 5.03420560e+07 5.05324493e+07 5.06879895e+07 5.08149813e+07\n",
      " 5.09186147e+07 5.10031532e+07 5.10720931e+07 5.11282981e+07\n",
      " 5.11741111e+07 5.12114471e+07 5.12418704e+07 5.12666581e+07\n",
      " 5.12868523e+07 5.13033029e+07 5.13167032e+07 5.13276182e+07\n",
      " 5.13365085e+07 5.13437494e+07 5.13496468e+07 5.13544498e+07\n",
      " 5.13583615e+07 5.13615472e+07 5.13641417e+07 5.13662546e+07\n",
      " 5.13679753e+07 5.13693766e+07 5.13705178e+07 5.13714471e+07\n",
      " 5.13722040e+07 5.13728203e+07 5.13733222e+07 5.13737310e+07\n",
      " 5.13740639e+07 5.13743350e+07 5.13745557e+07 5.13747355e+07\n",
      " 5.13748819e+07 5.13750011e+07 5.13750982e+07 5.13751773e+07\n",
      " 5.13752417e+07 5.13752941e+07 5.13753368e+07 5.13753716e+07\n",
      " 5.13753999e+07 5.13754229e+07 5.13754417e+07 5.13754570e+07\n",
      " 5.13754695e+07 5.13754796e+07 5.13754879e+07 5.13754946e+07\n",
      " 5.13755001e+07 5.13755045e+07 5.13755082e+07 5.13755111e+07\n",
      " 5.13755135e+07 5.13755155e+07 5.13755171e+07 5.13755184e+07\n",
      " 5.13755195e+07 5.13755203e+07 5.13755210e+07 5.13755216e+07\n",
      " 5.13755221e+07 5.13755224e+07 5.13755228e+07 5.13755230e+07\n",
      " 5.13755232e+07 5.13755234e+07 5.13755235e+07 5.13755236e+07\n",
      " 5.13755237e+07 5.13755238e+07 5.13755238e+07 5.13755239e+07\n",
      " 5.13755239e+07 5.13755240e+07 5.13755240e+07 5.13755240e+07\n",
      " 5.13755240e+07 5.13755240e+07 5.13755241e+07 5.13755241e+07\n",
      " 5.13755241e+07 5.13755241e+07 5.13755241e+07 5.13755241e+07\n",
      " 5.13755241e+07 5.13755241e+07 5.13755241e+07 5.13755241e+07\n",
      " 5.13755241e+07 5.13755241e+07 5.13755241e+07 5.13755241e+07\n",
      " 5.13755241e+07 5.13755241e+07 5.13755241e+07 5.13755241e+07\n",
      " 5.13755241e+07 5.13755241e+07 5.13755241e+07 5.13755241e+07\n",
      " 5.13755241e+07 5.13755241e+07]\n",
      "[   123.            126.93339463    132.47004822    140.46371929\n",
      "    152.00559477    168.6684102     192.71955967    227.42529788\n",
      "    277.48528946    349.65029339    453.59378729    603.12872575\n",
      "    817.87914652   1125.52126669   1564.67630374   2188.41946181\n",
      "   3068.08816632   4296.5189031    5988.93400804   8278.54681454\n",
      "  11303.17476764  15180.15928838  19971.4087608   25648.29737242\n",
      "  32072.77874641  39008.58210637  46162.3268964   53238.24059103\n",
      "  59985.02698945  66221.71735809  71841.89073875  76803.44315085\n",
      "  81112.28009902  84805.8676731   87939.58111437  90576.66080763\n",
      "  92781.47723409  94615.40517151  96134.57245559  97388.86764667\n",
      "  98421.74230193  99270.48082893  99966.71891923 100537.07023888\n",
      " 101003.77560699 101385.32534102 101697.02901292 101951.5215931\n",
      " 102159.20380921 102328.6195483  102466.7757191  102579.41106958\n",
      " 102671.2206484  102746.04226988 102807.01083254 102856.68558529\n",
      " 102897.1548767  102930.12213934 102956.9764363  102978.8501816\n",
      " 102996.66637619 103011.17721259 103022.99560428 103032.62091644\n",
      " 103040.45996883 103046.84416214 103052.0434443  103056.27769508\n",
      " 103059.7260056  103062.53424046 103064.82119872 103066.68363412\n",
      " 103068.20034469 103069.43550405 103070.44137504 103071.26052\n",
      " 103071.92760105 103072.47084625 103072.91324385 103073.27351482\n",
      " 103073.56690495 103073.80582989 103074.00040051 103074.15885076\n",
      " 103074.28788603 103074.39296694 103074.47854041 103074.54822784\n",
      " 103074.60497833 103074.65119353 103074.68882922 103074.71947812\n",
      " 103074.74443729 103074.76476297 103074.78131534 103074.79479488\n",
      " 103074.80577204 103074.81471138 103074.82199119 103074.82791956\n",
      " 103074.83274737 103074.83667893 103074.83988062 103074.84248795\n",
      " 103074.84461124 103074.84634036 103074.84774848 103074.84889519\n",
      " 103074.84982903 103074.8505895  103074.8512088  103074.85171313\n",
      " 103074.85212384 103074.8524583  103074.85273067 103074.85295247\n",
      " 103074.8531331  103074.8532802  103074.85339999 103074.85349754\n",
      " 103074.85357698 103074.85364168 103074.85369436 103074.85373726\n",
      " 103074.8537722  103074.85380066 103074.85382383 103074.8538427\n",
      " 103074.85385806 103074.85387058 103074.85388077 103074.85388907\n",
      " 103074.85389582 103074.85390133 103074.85390581 103074.85390946\n",
      " 103074.85391243 103074.85391485 103074.85391682 103074.85391843\n",
      " 103074.85391974 103074.8539208  103074.85392167 103074.85392237\n",
      " 103074.85392295 103074.85392342 103074.8539238  103074.85392411\n",
      " 103074.85392436 103074.85392457]\n"
     ]
    }
   ],
   "source": [
    "ret = odeint(deriv, y0, t, args=(N, beta, gamma, delta, alpha, rho))\n",
    "S, E, I, R, D = ret.T\n",
    "print(S)\n",
    "print(E)\n",
    "print(I)\n",
    "print(R)\n",
    "print(D)"
   ]
  },
  {
   "cell_type": "markdown",
   "metadata": {},
   "source": [
    "### Plot SEIRD curves "
   ]
  },
  {
   "cell_type": "code",
   "execution_count": 13,
   "metadata": {},
   "outputs": [
    {
     "data": {
      "image/png": "[encoded data removed]",
      "text/plain": [
       "<Figure size 1152x648 with 1 Axes>"
      ]
     },
     "metadata": {
      "needs_background": "light"
     },
     "output_type": "display_data"
    }
   ],
   "source": [
    "f, ax = plt.subplots(1,1,figsize=(16,9))\n",
    "ax.plot(t, S, 'b', alpha=0.7, linewidth=2, label='Susceptible')\n",
    "ax.plot(t, E, 'y', alpha=0.7, linewidth=2, label='Exposed')\n",
    "ax.plot(t, I, 'r', alpha=0.7, linewidth=2, label='Infected')\n",
    "ax.plot(t, R, 'g', alpha=0.7, linewidth=2, label='Recovered')\n",
    "ax.plot(t, D, 'k', alpha=0.7, linewidth=2, label='Dead')\n",
    "ax.plot(t, S+E+I+R+D, 'c--', alpha=0.7, linewidth=2, label='Total')\n",
    "ax.set_xlabel('Time (days)\\nCoronavirus COVID-19 (2019-nCoV) Data Repository for South Africa hosted by DSFSI @ University of Pretoria')\n",
    "ax.yaxis.set_tick_params(length=0)\n",
    "ax.xaxis.set_tick_params(length=0)\n",
    "ax.grid(b=True, which='major', c='w', lw=2, ls='-')\n",
    "legend = ax.legend(borderpad=2.0)\n",
    "legend.get_frame().set_alpha(0.5)\n",
    "for spine in ('top', 'right', 'bottom', 'left'):\n",
    "    ax.spines[spine].set_visible(False)"
   ]
  },
  {
   "cell_type": "code",
   "execution_count": 14,
   "metadata": {},
   "outputs": [
    {
     "data": {
      "application/vnd.plotly.v1+json": {
       "config": {
        "plotlyServerURL": "https://plotly.com"
       },
       "data": [
        {
         "name": "Susceptible",
         "type": "scatter",
         "x": [
          0,
          4.026845637583893,
          8.053691275167786,
          12.080536912751679,
          16.107382550335572,
          20.134228187919465,
          24.161073825503358,
          28.18791946308725,
          32.214765100671144,
          36.241610738255034,
          40.26845637583893,
          44.29530201342283,
          48.322147651006716,
          52.348993288590606,
          56.3758389261745,
          60.4026845637584,
          64.42953020134229,
          68.45637583892618,
          72.48322147651007,
          76.51006711409397,
          80.53691275167786,
          84.56375838926175,
          88.59060402684565,
          92.61744966442954,
          96.64429530201343,
          100.67114093959732,
          104.69798657718121,
          108.72483221476512,
          112.751677852349,
          116.7785234899329,
          120.8053691275168,
          124.83221476510069,
          128.85906040268458,
          132.88590604026848,
          136.91275167785236,
          140.93959731543626,
          144.96644295302013,
          148.99328859060404,
          153.02013422818794,
          157.04697986577182,
          161.07382550335572,
          165.10067114093962,
          169.1275167785235,
          173.1543624161074,
          177.1812080536913,
          181.20805369127518,
          185.2348993288591,
          189.26174496644296,
          193.28859060402687,
          197.31543624161077,
          201.34228187919464,
          205.36912751677855,
          209.39597315436242,
          213.42281879194633,
          217.44966442953023,
          221.4765100671141,
          225.503355704698,
          229.5302013422819,
          233.5570469798658,
          237.5838926174497,
          241.6107382550336,
          245.63758389261747,
          249.66442953020137,
          253.69127516778525,
          257.71812080536915,
          261.74496644295306,
          265.77181208053696,
          269.7986577181208,
          273.8255033557047,
          277.8523489932886,
          281.8791946308725,
          285.9060402684564,
          289.93288590604027,
          293.9597315436242,
          297.9865771812081,
          302.013422818792,
          306.0402684563759,
          310.0671140939598,
          314.09395973154363,
          318.12080536912754,
          322.14765100671144,
          326.17449664429535,
          330.20134228187925,
          334.2281879194631,
          338.255033557047,
          342.2818791946309,
          346.3087248322148,
          350.3355704697987,
          354.3624161073826,
          358.38926174496646,
          362.41610738255036,
          366.44295302013427,
          370.4697986577182,
          374.4966442953021,
          378.5234899328859,
          382.5503355704698,
          386.57718120805373,
          390.60402684563763,
          394.63087248322154,
          398.6577181208054,
          402.6845637583893,
          406.7114093959732,
          410.7382550335571,
          414.765100671141,
          418.79194630872485,
          422.81879194630875,
          426.84563758389265,
          430.87248322147656,
          434.89932885906046,
          438.92617449664436,
          442.9530201342282,
          446.9798657718121,
          451.006711409396,
          455.0335570469799,
          459.0604026845638,
          463.0872483221477,
          467.1140939597316,
          471.1409395973155,
          475.1677852348994,
          479.1946308724833,
          483.2214765100672,
          487.24832214765104,
          491.27516778523494,
          495.30201342281885,
          499.32885906040275,
          503.35570469798665,
          507.3825503355705,
          511.4093959731544,
          515.4362416107383,
          519.4630872483222,
          523.4899328859061,
          527.51677852349,
          531.5436241610739,
          535.5704697986578,
          539.5973154362416,
          543.6241610738256,
          547.6510067114094,
          551.6778523489934,
          555.7046979865772,
          559.7315436241611,
          563.758389261745,
          567.7852348993289,
          571.8120805369128,
          575.8389261744967,
          579.8657718120805,
          583.8926174496645,
          587.9194630872483,
          591.9463087248323,
          595.9731543624162,
          600
         ],
         "y": [
          57779622,
          57774733.62531896,
          57767853.44082005,
          57757921.4614669,
          57743583.920483716,
          57722891.32666957,
          57693036.660456926,
          57649983.67921137,
          57587940.10621382,
          57498617.41548781,
          57370204.13561105,
          57185969.43031338,
          56922420.37030112,
          56546986.33746679,
          56015345.47103981,
          55268822.295931704,
          54232874.97503698,
          52818616.57257262,
          50930392.483663686,
          48482855.93284772,
          45428990.912068404,
          41794154.4472539,
          37701378.013988115,
          33367644.63558261,
          29060969.976733543,
          25033297.224435925,
          21462982.392172046,
          18432708.72606156,
          15942735.705641044,
          13941249.06411121,
          12353779.04914158,
          11103262.263033709,
          10120426.714501245,
          9347479.289141804,
          8738167.425990501,
          8256302.713249509,
          7873882.32113662,
          7569321.520991132,
          7325974.109241508,
          7130962.556201454,
          6974279.887131904,
          6848110.02084276,
          6746316.251804116,
          6664056.29149761,
          6597491.585847104,
          6543566.641354908,
          6499840.415903924,
          6464356.600325151,
          6435543.12967424,
          6412133.823877126,
          6393106.909284037,
          6377636.516730786,
          6365054.227972773,
          6354818.460007936,
          6346489.99428605,
          6339712.362788599,
          6334196.076658395,
          6329705.924533856,
          6326050.712832104,
          6323074.977530857,
          6320652.271575922,
          6318679.725263827,
          6317073.634211757,
          6315765.879041161,
          6314701.016337353,
          6313833.915425162,
          6313127.837071788,
          6312552.871257834,
          6312084.666384369,
          6311703.395391096,
          6311392.914570079,
          6311140.078879693,
          6310934.184691032,
          6310766.516177275,
          6310629.976039106,
          6310518.784869388,
          6310428.23638407,
          6310354.498132614,
          6310294.449227308,
          6310245.548214558,
          6310205.725485152,
          6310173.295666212,
          6310146.886280779,
          6310125.379654658,
          6310107.865609889,
          6310093.60294188,
          6310081.98804899,
          6310072.529386226,
          6310064.826661969,
          6310058.553896814,
          6310053.44562784,
          6310049.285673849,
          6310045.897986431,
          6310043.1391994655,
          6310040.892561866,
          6310039.062996635,
          6310037.573077192,
          6310036.359750673,
          6310035.371669545,
          6310034.5670186,
          6310033.911745327,
          6310033.37811883,
          6310032.94355625,
          6310032.589667084,
          6310032.301474891,
          6310032.066783502,
          6310031.875660874,
          6310031.720018783,
          6310031.593270523,
          6310031.490052162,
          6310031.405995547,
          6310031.337543435,
          6310031.281798962,
          6310031.236403047,
          6310031.199434554,
          6310031.169328998,
          6310031.144812319,
          6310031.124846985,
          6310031.108588069,
          6310031.095347504,
          6310031.084564954,
          6310031.075784106,
          6310031.068633359,
          6310031.062810096,
          6310031.058067881,
          6310031.054206024,
          6310031.051061092,
          6310031.048499995,
          6310031.046414346,
          6310031.044715884,
          6310031.043332729,
          6310031.042206345,
          6310031.041289068,
          6310031.0405420745,
          6310031.039933755,
          6310031.039438368,
          6310031.039034945,
          6310031.0387064135,
          6310031.038438872,
          6310031.038220998,
          6310031.038043571,
          6310031.037899081,
          6310031.037781415,
          6310031.037685593,
          6310031.037607559,
          6310031.03754401,
          6310031.03749226,
          6310031.037450116,
          6310031.037415796,
          6310031.037387848
         ]
        },
        {
         "name": "Exposed",
         "type": "scatter",
         "x": [
          0,
          4.026845637583893,
          8.053691275167786,
          12.080536912751679,
          16.107382550335572,
          20.134228187919465,
          24.161073825503358,
          28.18791946308725,
          32.214765100671144,
          36.241610738255034,
          40.26845637583893,
          44.29530201342283,
          48.322147651006716,
          52.348993288590606,
          56.3758389261745,
          60.4026845637584,
          64.42953020134229,
          68.45637583892618,
          72.48322147651007,
          76.51006711409397,
          80.53691275167786,
          84.56375838926175,
          88.59060402684565,
          92.61744966442954,
          96.64429530201343,
          100.67114093959732,
          104.69798657718121,
          108.72483221476512,
          112.751677852349,
          116.7785234899329,
          120.8053691275168,
          124.83221476510069,
          128.85906040268458,
          132.88590604026848,
          136.91275167785236,
          140.93959731543626,
          144.96644295302013,
          148.99328859060404,
          153.02013422818794,
          157.04697986577182,
          161.07382550335572,
          165.10067114093962,
          169.1275167785235,
          173.1543624161074,
          177.1812080536913,
          181.20805369127518,
          185.2348993288591,
          189.26174496644296,
          193.28859060402687,
          197.31543624161077,
          201.34228187919464,
          205.36912751677855,
          209.39597315436242,
          213.42281879194633,
          217.44966442953023,
          221.4765100671141,
          225.503355704698,
          229.5302013422819,
          233.5570469798658,
          237.5838926174497,
          241.6107382550336,
          245.63758389261747,
          249.66442953020137,
          253.69127516778525,
          257.71812080536915,
          261.74496644295306,
          265.77181208053696,
          269.7986577181208,
          273.8255033557047,
          277.8523489932886,
          281.8791946308725,
          285.9060402684564,
          289.93288590604027,
          293.9597315436242,
          297.9865771812081,
          302.013422818792,
          306.0402684563759,
          310.0671140939598,
          314.09395973154363,
          318.12080536912754,
          322.14765100671144,
          326.17449664429535,
          330.20134228187925,
          334.2281879194631,
          338.255033557047,
          342.2818791946309,
          346.3087248322148,
          350.3355704697987,
          354.3624161073826,
          358.38926174496646,
          362.41610738255036,
          366.44295302013427,
          370.4697986577182,
          374.4966442953021,
          378.5234899328859,
          382.5503355704698,
          386.57718120805373,
          390.60402684563763,
          394.63087248322154,
          398.6577181208054,
          402.6845637583893,
          406.7114093959732,
          410.7382550335571,
          414.765100671141,
          418.79194630872485,
          422.81879194630875,
          426.84563758389265,
          430.87248322147656,
          434.89932885906046,
          438.92617449664436,
          442.9530201342282,
          446.9798657718121,
          451.006711409396,
          455.0335570469799,
          459.0604026845638,
          463.0872483221477,
          467.1140939597316,
          471.1409395973155,
          475.1677852348994,
          479.1946308724833,
          483.2214765100672,
          487.24832214765104,
          491.27516778523494,
          495.30201342281885,
          499.32885906040275,
          503.35570469798665,
          507.3825503355705,
          511.4093959731544,
          515.4362416107383,
          519.4630872483222,
          523.4899328859061,
          527.51677852349,
          531.5436241610739,
          535.5704697986578,
          539.5973154362416,
          543.6241610738256,
          547.6510067114094,
          551.6778523489934,
          555.7046979865772,
          559.7315436241611,
          563.758389261745,
          567.7852348993289,
          571.8120805369128,
          575.8389261744967,
          579.8657718120805,
          583.8926174496645,
          587.9194630872483,
          591.9463087248323,
          595.9731543624162,
          600
         ],
         "y": [
          0,
          1287.1720394200624,
          1870.5037269690179,
          2700.662368258155,
          3898.42817123225,
          5626.011832152099,
          8116.258264258017,
          11702.703118633279,
          16861.34754304058,
          24267.848025348263,
          34873.70447019132,
          50003.35733629827,
          71468.72105339277,
          101684.63094727095,
          143741.7476519113,
          201344.48043097014,
          278446.76240108185,
          378336.62518261967,
          501911.6137778748,
          645134.9907613432,
          796400.3356779551,
          935692.239604352,
          1038008.5823381732,
          1081700.3444954846,
          1058004.1791675224,
          975172.40862043,
          853931.0444329056,
          717970.5588875144,
          586057.921430094,
          469106.51183695736,
          371208.9574523649,
          292135.67288470006,
          229586.6990844938,
          180643.40404451994,
          142509.74866715417,
          112801.94450420844,
          89603.91252837832,
          71422.5874674712,
          57112.48862459715,
          45800.33814669161,
          36820.82705152732,
          29665.697542247737,
          23944.837610882983,
          19357.102258813004,
          15668.607689166225,
          12696.612508557777,
          10297.519675088213,
          8357.90134505021,
          6787.74108911931,
          5515.3080022217755,
          4483.238687651173,
          3645.51957422125,
          2965.1458293483306,
          2412.292752774816,
          1962.8788010841783,
          1597.4301618337606,
          1300.1792923374924,
          1058.3463738649232,
          861.564241293363,
          701.4168980890529,
          571.0685045294815,
          464.963940059923,
          378.58717897882815,
          308.2656944983702,
          251.01219229404592,
          204.39621397971953,
          166.44000885244003,
          135.53397873784672,
          110.3680073652531,
          89.87562333561671,
          73.18863444750333,
          59.600215252735325,
          48.5348857709046,
          39.52408493839462,
          32.18629314792466,
          26.21085460950801,
          21.344809336611586,
          17.382174058248694,
          14.155215729265903,
          11.527346983203591,
          9.387341694355978,
          7.644625265389506,
          6.225439733109713,
          5.069721168781344,
          4.1285570027850635,
          3.3621155461140395,
          2.737959987804932,
          2.2296754464679878,
          1.8157509531886358,
          1.478669009866791,
          1.2041641978547082,
          0.9806194223480349,
          0.7985742531702996,
          0.6503245423796261,
          0.5295963773377723,
          0.43128056233862755,
          0.35121639358491824,
          0.2860155761728719,
          0.23291883030485958,
          0.18967911888743647,
          0.15446655224203465,
          0.125790947393197,
          0.10243876336408674,
          0.08342174486220494,
          0.06793509929026569,
          0.05532343815026866,
          0.04505304112284238,
          0.03668926929435434,
          0.02987817140500039,
          0.024331504710464264,
          0.019814536915557488,
          0.016136111528037463,
          0.013140559205400092,
          0.010701109518848756,
          0.008714525995049247,
          0.00709673743517167,
          0.005779279644101062,
          0.004706398328220557,
          0.003832689639225187,
          0.0031211787090188042,
          0.0025417546343474546,
          0.0020698964271322817,
          0.0016856352476902385,
          0.001372709384769994,
          0.001117876011684986,
          0.0009103505499143556,
          0.000741350682696752,
          0.0006037244492502562,
          0.0004916475318623389,
          0.0004003768518719743,
          0.0003260499425049042,
          0.0002655212586289199,
          0.00021622925919349356,
          0.00017608794853175472,
          0.00014339858707933785,
          0.00011677781887773421,
          9.509896808575235e-05,
          7.744461546482434e-05,
          6.306772177088474e-05,
          5.135978174833233e-05,
          4.1825310275567446e-05,
          3.406081813165436e-05,
          2.7737782370983932e-05,
          2.2588567555962806e-05,
          1.8395243200447434e-05,
          1.4980364236387132e-05,
          1.2199443713731106e-05,
          9.934786787961663e-06,
          8.090540982665281e-06,
          6.5886436370347696e-06
         ]
        },
        {
         "name": "Infected",
         "type": "scatter",
         "x": [
          0,
          4.026845637583893,
          8.053691275167786,
          12.080536912751679,
          16.107382550335572,
          20.134228187919465,
          24.161073825503358,
          28.18791946308725,
          32.214765100671144,
          36.241610738255034,
          40.26845637583893,
          44.29530201342283,
          48.322147651006716,
          52.348993288590606,
          56.3758389261745,
          60.4026845637584,
          64.42953020134229,
          68.45637583892618,
          72.48322147651007,
          76.51006711409397,
          80.53691275167786,
          84.56375838926175,
          88.59060402684565,
          92.61744966442954,
          96.64429530201343,
          100.67114093959732,
          104.69798657718121,
          108.72483221476512,
          112.751677852349,
          116.7785234899329,
          120.8053691275168,
          124.83221476510069,
          128.85906040268458,
          132.88590604026848,
          136.91275167785236,
          140.93959731543626,
          144.96644295302013,
          148.99328859060404,
          153.02013422818794,
          157.04697986577182,
          161.07382550335572,
          165.10067114093962,
          169.1275167785235,
          173.1543624161074,
          177.1812080536913,
          181.20805369127518,
          185.2348993288591,
          189.26174496644296,
          193.28859060402687,
          197.31543624161077,
          201.34228187919464,
          205.36912751677855,
          209.39597315436242,
          213.42281879194633,
          217.44966442953023,
          221.4765100671141,
          225.503355704698,
          229.5302013422819,
          233.5570469798658,
          237.5838926174497,
          241.6107382550336,
          245.63758389261747,
          249.66442953020137,
          253.69127516778525,
          257.71812080536915,
          261.74496644295306,
          265.77181208053696,
          269.7986577181208,
          273.8255033557047,
          277.8523489932886,
          281.8791946308725,
          285.9060402684564,
          289.93288590604027,
          293.9597315436242,
          297.9865771812081,
          302.013422818792,
          306.0402684563759,
          310.0671140939598,
          314.09395973154363,
          318.12080536912754,
          322.14765100671144,
          326.17449664429535,
          330.20134228187925,
          334.2281879194631,
          338.255033557047,
          342.2818791946309,
          346.3087248322148,
          350.3355704697987,
          354.3624161073826,
          358.38926174496646,
          362.41610738255036,
          366.44295302013427,
          370.4697986577182,
          374.4966442953021,
          378.5234899328859,
          382.5503355704698,
          386.57718120805373,
          390.60402684563763,
          394.63087248322154,
          398.6577181208054,
          402.6845637583893,
          406.7114093959732,
          410.7382550335571,
          414.765100671141,
          418.79194630872485,
          422.81879194630875,
          426.84563758389265,
          430.87248322147656,
          434.89932885906046,
          438.92617449664436,
          442.9530201342282,
          446.9798657718121,
          451.006711409396,
          455.0335570469799,
          459.0604026845638,
          463.0872483221477,
          467.1140939597316,
          471.1409395973155,
          475.1677852348994,
          479.1946308724833,
          483.2214765100672,
          487.24832214765104,
          491.27516778523494,
          495.30201342281885,
          499.32885906040275,
          503.35570469798665,
          507.3825503355705,
          511.4093959731544,
          515.4362416107383,
          519.4630872483222,
          523.4899328859061,
          527.51677852349,
          531.5436241610739,
          535.5704697986578,
          539.5973154362416,
          543.6241610738256,
          547.6510067114094,
          551.6778523489934,
          555.7046979865772,
          559.7315436241611,
          563.758389261745,
          567.7852348993289,
          571.8120805369128,
          575.8389261744967,
          579.8657718120805,
          583.8926174496645,
          587.9194630872483,
          591.9463087248323,
          595.9731543624162,
          600
         ],
         "y": [
          6336,
          7970.50532580071,
          11499.031341820777,
          16604.016520107463,
          23972.85396000754,
          34606.45639648378,
          49945.301442041746,
          72058.96873127988,
          103913.90151448066,
          149747.5897925586,
          215583.26627195778,
          309920.84947682935,
          444629.33538586274,
          636026.398239597,
          906032.6294392697,
          1283081.4927338904,
          1802092.1794041973,
          2502245.350696378,
          3420686.8985359743,
          4580193.669122986,
          5970479.368436117,
          7527531.668951135,
          9122367.023271266,
          10573964.333709998,
          11692094.47089322,
          12334697.313760968,
          12449381.115194269,
          12077658.419535598,
          11326150.878203273,
          10326243.745006379,
          9201524.624031119,
          8050338.488658935,
          6941304.536906053,
          5916401.4702646565,
          4996990.268159654,
          4190022.9384301975,
          3493233.1492898916,
          2899011.3057885035,
          2397085.174339884,
          1976261.2823190545,
          1625486.1348534832,
          1334441.8671515316,
          1093837.4509675018,
          895509.4868045662,
          732410.0029677687,
          598532.0756255621,
          488805.5579628419,
          398982.7017797092,
          325525.2246329682,
          265499.09397270123,
          216479.99247954044,
          176470.42890476662,
          143828.30199700876,
          117206.11229935447,
          95499.71064415791,
          77805.41440214495,
          63384.30570102783,
          51632.65942142346,
          42057.5047761086,
          34256.514771631686,
          27901.471823578584,
          22724.70449870555,
          18507.976470330486,
          15073.39704578956,
          12275.987055409214,
          9997.607293124935,
          8142.00076826555,
          6630.747222266293,
          5399.962807214537,
          4397.608754215296,
          3581.29743643522,
          2916.503842635038,
          2375.108077177012,
          1934.2077144354,
          1575.1501497416023,
          1282.7442737383021,
          1044.6182815176605,
          850.6965673141855,
          692.7736308146442,
          564.1670265838263,
          459.43469851322635,
          374.14476529605145,
          304.6880232387729,
          248.12524535055636,
          202.06282023268736,
          164.55147292137434,
          134.003784077939,
          109.12701836414358,
          88.86842157062567,
          72.37067158314206,
          58.935599522373295,
          47.99464477609715,
          39.084794769930134,
          31.82899104809048,
          25.920172861788497,
          21.108282751230576,
          17.18968439291277,
          13.998544921323806,
          11.399817031738191,
          9.28352393037596,
          7.560105173745099,
          6.156626541436874,
          5.013693491847248,
          4.082937647785659,
          3.32496986302939,
          2.707713296365713,
          2.205045933273127,
          1.7956951206379888,
          1.4623373196305152,
          1.190864979652599,
          0.9697895262274515,
          0.7897551275624445,
          0.6431428097284837,
          0.5237480069719839,
          0.4265179831309536,
          0.3473380140584753,
          0.2828572341398707,
          0.23034684255019156,
          0.18758462366585826,
          0.15276090419702362,
          0.12440195614352542,
          0.10130764057251795,
          0.08250061586217604,
          0.06718497961316787,
          0.05471258370249305,
          0.044555594870689136,
          0.03628417722762238,
          0.029548289943899683,
          0.02406287147170121,
          0.019595779710365635,
          0.01595797264371744,
          0.012995496793389334,
          0.01058298178992599,
          0.008618332042183714,
          0.007018405565273365,
          0.0057154963007062486,
          0.0046544609717372185,
          0.00379039801826849,
          0.00308674484588428,
          0.0025137191760151775,
          0.002047070312734598,
          0.001667050146598251,
          0.001357579667934746,
          0.0011055599049733175,
          0.000900324612196962,
          0.0007331890356037406,
          0.0005970815015113545,
          0.0004862416313224616,
          0.000395978084852426,
          0.0003224702148805947
         ]
        },
        {
         "name": "Recovered",
         "type": "scatter",
         "x": [
          0,
          4.026845637583893,
          8.053691275167786,
          12.080536912751679,
          16.107382550335572,
          20.134228187919465,
          24.161073825503358,
          28.18791946308725,
          32.214765100671144,
          36.241610738255034,
          40.26845637583893,
          44.29530201342283,
          48.322147651006716,
          52.348993288590606,
          56.3758389261745,
          60.4026845637584,
          64.42953020134229,
          68.45637583892618,
          72.48322147651007,
          76.51006711409397,
          80.53691275167786,
          84.56375838926175,
          88.59060402684565,
          92.61744966442954,
          96.64429530201343,
          100.67114093959732,
          104.69798657718121,
          108.72483221476512,
          112.751677852349,
          116.7785234899329,
          120.8053691275168,
          124.83221476510069,
          128.85906040268458,
          132.88590604026848,
          136.91275167785236,
          140.93959731543626,
          144.96644295302013,
          148.99328859060404,
          153.02013422818794,
          157.04697986577182,
          161.07382550335572,
          165.10067114093962,
          169.1275167785235,
          173.1543624161074,
          177.1812080536913,
          181.20805369127518,
          185.2348993288591,
          189.26174496644296,
          193.28859060402687,
          197.31543624161077,
          201.34228187919464,
          205.36912751677855,
          209.39597315436242,
          213.42281879194633,
          217.44966442953023,
          221.4765100671141,
          225.503355704698,
          229.5302013422819,
          233.5570469798658,
          237.5838926174497,
          241.6107382550336,
          245.63758389261747,
          249.66442953020137,
          253.69127516778525,
          257.71812080536915,
          261.74496644295306,
          265.77181208053696,
          269.7986577181208,
          273.8255033557047,
          277.8523489932886,
          281.8791946308725,
          285.9060402684564,
          289.93288590604027,
          293.9597315436242,
          297.9865771812081,
          302.013422818792,
          306.0402684563759,
          310.0671140939598,
          314.09395973154363,
          318.12080536912754,
          322.14765100671144,
          326.17449664429535,
          330.20134228187925,
          334.2281879194631,
          338.255033557047,
          342.2818791946309,
          346.3087248322148,
          350.3355704697987,
          354.3624161073826,
          358.38926174496646,
          362.41610738255036,
          366.44295302013427,
          370.4697986577182,
          374.4966442953021,
          378.5234899328859,
          382.5503355704698,
          386.57718120805373,
          390.60402684563763,
          394.63087248322154,
          398.6577181208054,
          402.6845637583893,
          406.7114093959732,
          410.7382550335571,
          414.765100671141,
          418.79194630872485,
          422.81879194630875,
          426.84563758389265,
          430.87248322147656,
          434.89932885906046,
          438.92617449664436,
          442.9530201342282,
          446.9798657718121,
          451.006711409396,
          455.0335570469799,
          459.0604026845638,
          463.0872483221477,
          467.1140939597316,
          471.1409395973155,
          475.1677852348994,
          479.1946308724833,
          483.2214765100672,
          487.24832214765104,
          491.27516778523494,
          495.30201342281885,
          499.32885906040275,
          503.35570469798665,
          507.3825503355705,
          511.4093959731544,
          515.4362416107383,
          519.4630872483222,
          523.4899328859061,
          527.51677852349,
          531.5436241610739,
          535.5704697986578,
          539.5973154362416,
          543.6241610738256,
          547.6510067114094,
          551.6778523489934,
          555.7046979865772,
          559.7315436241611,
          563.758389261745,
          567.7852348993289,
          571.8120805369128,
          575.8389261744967,
          579.8657718120805,
          583.8926174496645,
          587.9194630872483,
          591.9463087248323,
          595.9731543624162,
          600
         ],
         "y": [
          2549,
          4511.7639211892565,
          7274.554062921341,
          11263.395925432107,
          17022.79179025718,
          25337.536691594643,
          37339.06027709273,
          54657.22364084621,
          79637.15943921094,
          115647.49640090457,
          167515.29985952127,
          242133.2341477612,
          349293.6941131347,
          502807.112079673,
          721945.4755652867,
          1033193.3114416396,
          1472147.9949914385,
          2085134.9326453062,
          2929650.07001444,
          4072166.8604534417,
          5581456.209049904,
          7516071.484902222,
          9906904.97164162,
          12739672.388839466,
          15945488.594459275,
          19406454.471076284,
          22976173.121304344,
          26507054.054924272,
          29873700.467736106,
          32985808.961687326,
          35790275.478636146,
          38266090.13227177,
          40416199.76940914,
          42259299.968875885,
          43823022.976068296,
          45138925.74300843,
          46239129.13981101,
          47154259.18058137,
          47912323.655338414,
          48538216.95568612,
          49053621.40866114,
          49477141.933634505,
          49824564.74069824,
          50109170.04920012,
          50342056.02788897,
          50532449.34516995,
          50687989.47744523,
          50814981.274956994,
          50918614.700794466,
          51003153.15459965,
          51072093.08382969,
          51128298.12372067,
          51174111.1035525,
          51211447.09267008,
          51241870.4054362,
          51266658.10706215,
          51286852.28347156,
          51303302.94753152,
          51316703.24171422,
          51327618.24061784,
          51336508.5217198,
          51343749.42908483,
          51349646.80653466,
          51354449.83730211,
          51358361.524446115,
          51361547.2369056,
          51364141.678706795,
          51366254.56984608,
          51367975.27679544,
          51369376.58599088,
          51370517.77816031,
          51371447.13342829,
          51372203.97200133,
          51372820.316519305,
          51373322.246142976,
          51373730.99948226,
          51374063.87292402,
          51374334.952279754,
          51374555.70868229,
          51374735.48389707,
          51374881.8855697,
          51375001.10911334,
          51375098.19985574,
          51375177.26652806,
          51375241.65512685,
          51375294.090502724,
          51375336.791666545,
          51375371.56569213,
          51375399.88418718,
          51375422.945569076,
          51375441.725779235,
          51375457.01958384,
          51375469.474207275,
          51375479.61672199,
          51375487.87635357,
          51375494.60264518,
          51375500.08024999,
          51375504.540977456,
          51375508.173603415,
          51375511.13185881,
          51375513.5409356,
          51375515.50278477,
          51375517.1004309,
          51375518.40148559,
          51375519.46100893,
          51375520.323839426,
          51375521.02649169,
          51375521.59870165,
          51375522.064684965,
          51375522.44416186,
          51375522.753191605,
          51375523.004852206,
          51375523.209793836,
          51375523.37668954,
          51375523.51260227,
          51375523.623283766,
          51375523.71341806,
          51375523.78681957,
          51375523.846594624,
          51375523.895272866,
          51375523.93491434,
          51375523.967196666,
          51375523.99348602,
          51375524.014894925,
          51375524.03232943,
          51375524.04652735,
          51375524.058089525,
          51375524.06750526,
          51375524.075173035,
          51375524.08141735,
          51375524.086502455,
          51375524.09064355,
          51375524.094015874,
          51375524.09676216,
          51375524.09899861,
          51375524.10081988,
          51375524.10230305,
          51375524.10351087,
          51375524.104494475,
          51375524.10529547,
          51375524.10594778,
          51375524.10647898,
          51375524.10691157,
          51375524.10726386,
          51375524.10755074,
          51375524.107784376,
          51375524.10797463,
          51375524.10812957,
          51375524.10825575,
          51375524.10835851
         ]
        },
        {
         "name": "Dead",
         "type": "scatter",
         "x": [
          0,
          4.026845637583893,
          8.053691275167786,
          12.080536912751679,
          16.107382550335572,
          20.134228187919465,
          24.161073825503358,
          28.18791946308725,
          32.214765100671144,
          36.241610738255034,
          40.26845637583893,
          44.29530201342283,
          48.322147651006716,
          52.348993288590606,
          56.3758389261745,
          60.4026845637584,
          64.42953020134229,
          68.45637583892618,
          72.48322147651007,
          76.51006711409397,
          80.53691275167786,
          84.56375838926175,
          88.59060402684565,
          92.61744966442954,
          96.64429530201343,
          100.67114093959732,
          104.69798657718121,
          108.72483221476512,
          112.751677852349,
          116.7785234899329,
          120.8053691275168,
          124.83221476510069,
          128.85906040268458,
          132.88590604026848,
          136.91275167785236,
          140.93959731543626,
          144.96644295302013,
          148.99328859060404,
          153.02013422818794,
          157.04697986577182,
          161.07382550335572,
          165.10067114093962,
          169.1275167785235,
          173.1543624161074,
          177.1812080536913,
          181.20805369127518,
          185.2348993288591,
          189.26174496644296,
          193.28859060402687,
          197.31543624161077,
          201.34228187919464,
          205.36912751677855,
          209.39597315436242,
          213.42281879194633,
          217.44966442953023,
          221.4765100671141,
          225.503355704698,
          229.5302013422819,
          233.5570469798658,
          237.5838926174497,
          241.6107382550336,
          245.63758389261747,
          249.66442953020137,
          253.69127516778525,
          257.71812080536915,
          261.74496644295306,
          265.77181208053696,
          269.7986577181208,
          273.8255033557047,
          277.8523489932886,
          281.8791946308725,
          285.9060402684564,
          289.93288590604027,
          293.9597315436242,
          297.9865771812081,
          302.013422818792,
          306.0402684563759,
          310.0671140939598,
          314.09395973154363,
          318.12080536912754,
          322.14765100671144,
          326.17449664429535,
          330.20134228187925,
          334.2281879194631,
          338.255033557047,
          342.2818791946309,
          346.3087248322148,
          350.3355704697987,
          354.3624161073826,
          358.38926174496646,
          362.41610738255036,
          366.44295302013427,
          370.4697986577182,
          374.4966442953021,
          378.5234899328859,
          382.5503355704698,
          386.57718120805373,
          390.60402684563763,
          394.63087248322154,
          398.6577181208054,
          402.6845637583893,
          406.7114093959732,
          410.7382550335571,
          414.765100671141,
          418.79194630872485,
          422.81879194630875,
          426.84563758389265,
          430.87248322147656,
          434.89932885906046,
          438.92617449664436,
          442.9530201342282,
          446.9798657718121,
          451.006711409396,
          455.0335570469799,
          459.0604026845638,
          463.0872483221477,
          467.1140939597316,
          471.1409395973155,
          475.1677852348994,
          479.1946308724833,
          483.2214765100672,
          487.24832214765104,
          491.27516778523494,
          495.30201342281885,
          499.32885906040275,
          503.35570469798665,
          507.3825503355705,
          511.4093959731544,
          515.4362416107383,
          519.4630872483222,
          523.4899328859061,
          527.51677852349,
          531.5436241610739,
          535.5704697986578,
          539.5973154362416,
          543.6241610738256,
          547.6510067114094,
          551.6778523489934,
          555.7046979865772,
          559.7315436241611,
          563.758389261745,
          567.7852348993289,
          571.8120805369128,
          575.8389261744967,
          579.8657718120805,
          583.8926174496645,
          587.9194630872483,
          591.9463087248323,
          595.9731543624162,
          600
         ],
         "y": [
          123,
          126.93339463164179,
          132.47004822228723,
          140.463719289443,
          152.00559477005433,
          168.6684102035963,
          192.71955967353233,
          227.42529787744712,
          277.4852894573363,
          349.6502933885861,
          453.5937872936296,
          603.1287257470162,
          817.8791465193084,
          1125.521266692732,
          1564.6763037380501,
          2188.419461806893,
          3068.0881663155083,
          4296.518903096805,
          5988.93400804497,
          8278.546814535954,
          11303.174767635071,
          15180.159288381197,
          19971.40876080485,
          25648.297372423764,
          32072.778746411364,
          39008.5821063653,
          46162.326896401486,
          53238.2405910306,
          59985.02698945111,
          66221.71735809084,
          71841.8907387498,
          76803.44315084527,
          81112.28009901638,
          84805.86767309801,
          87939.58111436534,
          90576.66080763214,
          92781.47723409018,
          94615.40517150573,
          96134.57245558796,
          97388.86764666553,
          98421.74230192612,
          99270.48082892688,
          99966.71891923498,
          100537.07023887798,
          101003.77560699188,
          101385.32534102192,
          101697.02901291626,
          101951.52159310016,
          102159.20380920732,
          102328.61954829587,
          102466.77571909751,
          102579.41106958043,
          102671.22064840172,
          102746.04226987986,
          102807.0108325374,
          102856.68558529484,
          102897.15487669648,
          102930.12213934172,
          102956.97643630102,
          102978.85018159884,
          102996.66637619196,
          103011.17721259485,
          103022.99560427785,
          103032.6209164371,
          103040.45996882986,
          103046.84416213546,
          103052.04344430218,
          103056.2776950823,
          103059.72600560209,
          103062.53424046272,
          103064.82119871808,
          103066.68363412486,
          103068.20034469207,
          103069.43550404676,
          103070.44137503607,
          103071.26052000458,
          103071.92760105019,
          103072.47084625205,
          103072.91324385232,
          103073.27351482378,
          103073.56690494932,
          103073.80582988646,
          103074.00040051254,
          103074.15885075767,
          103074.28788602576,
          103074.39296693931,
          103074.4785404139,
          103074.54822783996,
          103074.60497833104,
          103074.65119352522,
          103074.68882921692,
          103074.71947812395,
          103074.74443728913,
          103074.76476296992,
          103074.78131533782,
          103074.79479488013,
          103074.80577204408,
          103074.81471137771,
          103074.82199118925,
          103074.82791955676,
          103074.83274736596,
          103074.83667892743,
          103074.83988062307,
          103074.84248794713,
          103074.84461124038,
          103074.8463403596,
          103074.84774848036,
          103074.84889519372,
          103074.84982902804,
          103074.85058950279,
          103074.85120880086,
          103074.85171313073,
          103074.85212383543,
          103074.85245829576,
          103074.85273066597,
          103074.85295247259,
          103074.85313310243,
          103074.85328019963,
          103074.85339998931,
          103074.8534975409,
          103074.85357698274,
          103074.85364167677,
          103074.85369436086,
          103074.85373726452,
          103074.85377220341,
          103074.85380065616,
          103074.85382382687,
          103074.85384269607,
          103074.85385806237,
          103074.85387057603,
          103074.8538807666,
          103074.8538890654,
          103074.85389582357,
          103074.85390132714,
          103074.853905809,
          103074.85390945882,
          103074.85391243109,
          103074.85391485158,
          103074.85391682273,
          103074.85391842794,
          103074.85391973516,
          103074.85392079971,
          103074.85392166661,
          103074.8539223726,
          103074.85392294751,
          103074.85392341572,
          103074.853923797,
          103074.85392410749,
          103074.85392436036,
          103074.85392456627
         ]
        }
       ],
       "layout": {
        "template": {
         "data": {
          "bar": [
           {
            "error_x": {
             "color": "#2a3f5f"
            },
            "error_y": {
             "color": "#2a3f5f"
            },
            "marker": {
             "line": {
              "color": "#E5ECF6",
              "width": 0.5
             }
            },
            "type": "bar"
           }
          ],
          "barpolar": [
           {
            "marker": {
             "line": {
              "color": "#E5ECF6",
              "width": 0.5
             }
            },
            "type": "barpolar"
           }
          ],
          "carpet": [
           {
            "aaxis": {
             "endlinecolor": "#2a3f5f",
             "gridcolor": "white",
             "linecolor": "white",
             "minorgridcolor": "white",
             "startlinecolor": "#2a3f5f"
            },
            "baxis": {
             "endlinecolor": "#2a3f5f",
             "gridcolor": "white",
             "linecolor": "white",
             "minorgridcolor": "white",
             "startlinecolor": "#2a3f5f"
            },
            "type": "carpet"
           }
          ],
          "choropleth": [
           {
            "colorbar": {
             "outlinewidth": 0,
             "ticks": ""
            },
            "type": "choropleth"
           }
          ],
          "contour": [
           {
            "colorbar": {
             "outlinewidth": 0,
             "ticks": ""
            },
            "colorscale": [
             [
              0,
              "#0d0887"
             ],
             [
              0.1111111111111111,
              "#46039f"
             ],
             [
              0.2222222222222222,
              "#7201a8"
             ],
             [
              0.3333333333333333,
              "#9c179e"
             ],
             [
              0.4444444444444444,
              "#bd3786"
             ],
             [
              0.5555555555555556,
              "#d8576b"
             ],
             [
              0.6666666666666666,
              "#ed7953"
             ],
             [
              0.7777777777777778,
              "#fb9f3a"
             ],
             [
              0.8888888888888888,
              "#fdca26"
             ],
             [
              1,
              "#f0f921"
             ]
            ],
            "type": "contour"
           }
          ],
          "contourcarpet": [
           {
            "colorbar": {
             "outlinewidth": 0,
             "ticks": ""
            },
            "type": "contourcarpet"
           }
          ],
          "heatmap": [
           {
            "colorbar": {
             "outlinewidth": 0,
             "ticks": ""
            },
            "colorscale": [
             [
              0,
              "#0d0887"
             ],
             [
              0.1111111111111111,
              "#46039f"
             ],
             [
              0.2222222222222222,
              "#7201a8"
             ],
             [
              0.3333333333333333,
              "#9c179e"
             ],
             [
              0.4444444444444444,
              "#bd3786"
             ],
             [
              0.5555555555555556,
              "#d8576b"
             ],
             [
              0.6666666666666666,
              "#ed7953"
             ],
             [
              0.7777777777777778,
              "#fb9f3a"
             ],
             [
              0.8888888888888888,
              "#fdca26"
             ],
             [
              1,
              "#f0f921"
             ]
            ],
            "type": "heatmap"
           }
          ],
          "heatmapgl": [
           {
            "colorbar": {
             "outlinewidth": 0,
             "ticks": ""
            },
            "colorscale": [
             [
              0,
              "#0d0887"
             ],
             [
              0.1111111111111111,
              "#46039f"
             ],
             [
              0.2222222222222222,
              "#7201a8"
             ],
             [
              0.3333333333333333,
              "#9c179e"
             ],
             [
              0.4444444444444444,
              "#bd3786"
             ],
             [
              0.5555555555555556,
              "#d8576b"
             ],
             [
              0.6666666666666666,
              "#ed7953"
             ],
             [
              0.7777777777777778,
              "#fb9f3a"
             ],
             [
              0.8888888888888888,
              "#fdca26"
             ],
             [
              1,
              "#f0f921"
             ]
            ],
            "type": "heatmapgl"
           }
          ],
          "histogram": [
           {
            "marker": {
             "colorbar": {
              "outlinewidth": 0,
              "ticks": ""
             }
            },
            "type": "histogram"
           }
          ],
          "histogram2d": [
           {
            "colorbar": {
             "outlinewidth": 0,
             "ticks": ""
            },
            "colorscale": [
             [
              0,
              "#0d0887"
             ],
             [
              0.1111111111111111,
              "#46039f"
             ],
             [
              0.2222222222222222,
              "#7201a8"
             ],
             [
              0.3333333333333333,
              "#9c179e"
             ],
             [
              0.4444444444444444,
              "#bd3786"
             ],
             [
              0.5555555555555556,
              "#d8576b"
             ],
             [
              0.6666666666666666,
              "#ed7953"
             ],
             [
              0.7777777777777778,
              "#fb9f3a"
             ],
             [
              0.8888888888888888,
              "#fdca26"
             ],
             [
              1,
              "#f0f921"
             ]
            ],
            "type": "histogram2d"
           }
          ],
          "histogram2dcontour": [
           {
            "colorbar": {
             "outlinewidth": 0,
             "ticks": ""
            },
            "colorscale": [
             [
              0,
              "#0d0887"
             ],
             [
              0.1111111111111111,
              "#46039f"
             ],
             [
              0.2222222222222222,
              "#7201a8"
             ],
             [
              0.3333333333333333,
              "#9c179e"
             ],
             [
              0.4444444444444444,
              "#bd3786"
             ],
             [
              0.5555555555555556,
              "#d8576b"
             ],
             [
              0.6666666666666666,
              "#ed7953"
             ],
             [
              0.7777777777777778,
              "#fb9f3a"
             ],
             [
              0.8888888888888888,
              "#fdca26"
             ],
             [
              1,
              "#f0f921"
             ]
            ],
            "type": "histogram2dcontour"
           }
          ],
          "mesh3d": [
           {
            "colorbar": {
             "outlinewidth": 0,
             "ticks": ""
            },
            "type": "mesh3d"
           }
          ],
          "parcoords": [
           {
            "line": {
             "colorbar": {
              "outlinewidth": 0,
              "ticks": ""
             }
            },
            "type": "parcoords"
           }
          ],
          "pie": [
           {
            "automargin": true,
            "type": "pie"
           }
          ],
          "scatter": [
           {
            "marker": {
             "colorbar": {
              "outlinewidth": 0,
              "ticks": ""
             }
            },
            "type": "scatter"
           }
          ],
          "scatter3d": [
           {
            "line": {
             "colorbar": {
              "outlinewidth": 0,
              "ticks": ""
             }
            },
            "marker": {
             "colorbar": {
              "outlinewidth": 0,
              "ticks": ""
             }
            },
            "type": "scatter3d"
           }
          ],
          "scattercarpet": [
           {
            "marker": {
             "colorbar": {
              "outlinewidth": 0,
              "ticks": ""
             }
            },
            "type": "scattercarpet"
           }
          ],
          "scattergeo": [
           {
            "marker": {
             "colorbar": {
              "outlinewidth": 0,
              "ticks": ""
             }
            },
            "type": "scattergeo"
           }
          ],
          "scattergl": [
           {
            "marker": {
             "colorbar": {
              "outlinewidth": 0,
              "ticks": ""
             }
            },
            "type": "scattergl"
           }
          ],
          "scattermapbox": [
           {
            "marker": {
             "colorbar": {
              "outlinewidth": 0,
              "ticks": ""
             }
            },
            "type": "scattermapbox"
           }
          ],
          "scatterpolar": [
           {
            "marker": {
             "colorbar": {
              "outlinewidth": 0,
              "ticks": ""
             }
            },
            "type": "scatterpolar"
           }
          ],
          "scatterpolargl": [
           {
            "marker": {
             "colorbar": {
              "outlinewidth": 0,
              "ticks": ""
             }
            },
            "type": "scatterpolargl"
           }
          ],
          "scatterternary": [
           {
            "marker": {
             "colorbar": {
              "outlinewidth": 0,
              "ticks": ""
             }
            },
            "type": "scatterternary"
           }
          ],
          "surface": [
           {
            "colorbar": {
             "outlinewidth": 0,
             "ticks": ""
            },
            "colorscale": [
             [
              0,
              "#0d0887"
             ],
             [
              0.1111111111111111,
              "#46039f"
             ],
             [
              0.2222222222222222,
              "#7201a8"
             ],
             [
              0.3333333333333333,
              "#9c179e"
             ],
             [
              0.4444444444444444,
              "#bd3786"
             ],
             [
              0.5555555555555556,
              "#d8576b"
             ],
             [
              0.6666666666666666,
              "#ed7953"
             ],
             [
              0.7777777777777778,
              "#fb9f3a"
             ],
             [
              0.8888888888888888,
              "#fdca26"
             ],
             [
              1,
              "#f0f921"
             ]
            ],
            "type": "surface"
           }
          ],
          "table": [
           {
            "cells": {
             "fill": {
              "color": "#EBF0F8"
             },
             "line": {
              "color": "white"
             }
            },
            "header": {
             "fill": {
              "color": "#C8D4E3"
             },
             "line": {
              "color": "white"
             }
            },
            "type": "table"
           }
          ]
         },
         "layout": {
          "annotationdefaults": {
           "arrowcolor": "#2a3f5f",
           "arrowhead": 0,
           "arrowwidth": 1
          },
          "coloraxis": {
           "colorbar": {
            "outlinewidth": 0,
            "ticks": ""
           }
          },
          "colorscale": {
           "diverging": [
            [
             0,
             "#8e0152"
            ],
            [
             0.1,
             "#c51b7d"
            ],
            [
             0.2,
             "#de77ae"
            ],
            [
             0.3,
             "#f1b6da"
            ],
            [
             0.4,
             "#fde0ef"
            ],
            [
             0.5,
             "#f7f7f7"
            ],
            [
             0.6,
             "#e6f5d0"
            ],
            [
             0.7,
             "#b8e186"
            ],
            [
             0.8,
             "#7fbc41"
            ],
            [
             0.9,
             "#4d9221"
            ],
            [
             1,
             "#276419"
            ]
           ],
           "sequential": [
            [
             0,
             "#0d0887"
            ],
            [
             0.1111111111111111,
             "#46039f"
            ],
            [
             0.2222222222222222,
             "#7201a8"
            ],
            [
             0.3333333333333333,
             "#9c179e"
            ],
            [
             0.4444444444444444,
             "#bd3786"
            ],
            [
             0.5555555555555556,
             "#d8576b"
            ],
            [
             0.6666666666666666,
             "#ed7953"
            ],
            [
             0.7777777777777778,
             "#fb9f3a"
            ],
            [
             0.8888888888888888,
             "#fdca26"
            ],
            [
             1,
             "#f0f921"
            ]
           ],
           "sequentialminus": [
            [
             0,
             "#0d0887"
            ],
            [
             0.1111111111111111,
             "#46039f"
            ],
            [
             0.2222222222222222,
             "#7201a8"
            ],
            [
             0.3333333333333333,
             "#9c179e"
            ],
            [
             0.4444444444444444,
             "#bd3786"
            ],
            [
             0.5555555555555556,
             "#d8576b"
            ],
            [
             0.6666666666666666,
             "#ed7953"
            ],
            [
             0.7777777777777778,
             "#fb9f3a"
            ],
            [
             0.8888888888888888,
             "#fdca26"
            ],
            [
             1,
             "#f0f921"
            ]
           ]
          },
          "colorway": [
           "#636efa",
           "#EF553B",
           "#00cc96",
           "#ab63fa",
           "#FFA15A",
           "#19d3f3",
           "#FF6692",
           "#B6E880",
           "#FF97FF",
           "#FECB52"
          ],
          "font": {
           "color": "#2a3f5f"
          },
          "geo": {
           "bgcolor": "white",
           "lakecolor": "white",
           "landcolor": "#E5ECF6",
           "showlakes": true,
           "showland": true,
           "subunitcolor": "white"
          },
          "hoverlabel": {
           "align": "left"
          },
          "hovermode": "closest",
          "mapbox": {
           "style": "light"
          },
          "paper_bgcolor": "white",
          "plot_bgcolor": "#E5ECF6",
          "polar": {
           "angularaxis": {
            "gridcolor": "white",
            "linecolor": "white",
            "ticks": ""
           },
           "bgcolor": "#E5ECF6",
           "radialaxis": {
            "gridcolor": "white",
            "linecolor": "white",
            "ticks": ""
           }
          },
          "scene": {
           "xaxis": {
            "backgroundcolor": "#E5ECF6",
            "gridcolor": "white",
            "gridwidth": 2,
            "linecolor": "white",
            "showbackground": true,
            "ticks": "",
            "zerolinecolor": "white"
           },
           "yaxis": {
            "backgroundcolor": "#E5ECF6",
            "gridcolor": "white",
            "gridwidth": 2,
            "linecolor": "white",
            "showbackground": true,
            "ticks": "",
            "zerolinecolor": "white"
           },
           "zaxis": {
            "backgroundcolor": "#E5ECF6",
            "gridcolor": "white",
            "gridwidth": 2,
            "linecolor": "white",
            "showbackground": true,
            "ticks": "",
            "zerolinecolor": "white"
           }
          },
          "shapedefaults": {
           "line": {
            "color": "#2a3f5f"
           }
          },
          "ternary": {
           "aaxis": {
            "gridcolor": "white",
            "linecolor": "white",
            "ticks": ""
           },
           "baxis": {
            "gridcolor": "white",
            "linecolor": "white",
            "ticks": ""
           },
           "bgcolor": "#E5ECF6",
           "caxis": {
            "gridcolor": "white",
            "linecolor": "white",
            "ticks": ""
           }
          },
          "title": {
           "x": 0.05
          },
          "xaxis": {
           "automargin": true,
           "gridcolor": "white",
           "linecolor": "white",
           "ticks": "",
           "title": {
            "standoff": 15
           },
           "zerolinecolor": "white",
           "zerolinewidth": 2
          },
          "yaxis": {
           "automargin": true,
           "gridcolor": "white",
           "linecolor": "white",
           "ticks": "",
           "title": {
            "standoff": 15
           },
           "zerolinecolor": "white",
           "zerolinewidth": 2
          }
         }
        },
        "title": {
         "text": "SEIRD model South Africa"
        },
        "xaxis": {
         "overlaying": "x",
         "side": "bottom",
         "title": {
          "text": "Days"
         }
        },
        "yaxis": {
         "title": {
          "text": "Number"
         }
        }
       }
      },
      "text/html": [
       "<div>\n",
       "        \n",
       "        \n",
       "            <div id=\"99eed706-6faf-4b80-86b2-a6413390959a\" class=\"plotly-graph-div\" style=\"height:525px; width:100%;\"></div>\n",
       "            <script type=\"text/javascript\">\n",
       "                require([\"plotly\"], function(Plotly) {\n",
       "                    window.PLOTLYENV=window.PLOTLYENV || {};\n",
       "                    \n",
       "                if (document.getElementById(\"99eed706-6faf-4b80-86b2-a6413390959a\")) {\n",
       "                    Plotly.newPlot(\n",
       "                        '99eed706-6faf-4b80-86b2-a6413390959a',\n",
       "                        [{\"name\": \"Susceptible\", \"type\": \"scatter\", \"x\": [0.0, 4.026845637583893, 8.053691275167786, 12.080536912751679, 16.107382550335572, 20.134228187919465, 24.161073825503358, 28.18791946308725, 32.214765100671144, 36.241610738255034, 40.26845637583893, 44.29530201342283, 48.322147651006716, 52.348993288590606, 56.3758389261745, 60.4026845637584, 64.42953020134229, 68.45637583892618, 72.48322147651007, 76.51006711409397, 80.53691275167786, 84.56375838926175, 88.59060402684565, 92.61744966442954, 96.64429530201343, 100.67114093959732, 104.69798657718121, 108.72483221476512, 112.751677852349, 116.7785234899329, 120.8053691275168, 124.83221476510069, 128.85906040268458, 132.88590604026848, 136.91275167785236, 140.93959731543626, 144.96644295302013, 148.99328859060404, 153.02013422818794, 157.04697986577182, 161.07382550335572, 165.10067114093962, 169.1275167785235, 173.1543624161074, 177.1812080536913, 181.20805369127518, 185.2348993288591, 189.26174496644296, 193.28859060402687, 197.31543624161077, 201.34228187919464, 205.36912751677855, 209.39597315436242, 213.42281879194633, 217.44966442953023, 221.4765100671141, 225.503355704698, 229.5302013422819, 233.5570469798658, 237.5838926174497, 241.6107382550336, 245.63758389261747, 249.66442953020137, 253.69127516778525, 257.71812080536915, 261.74496644295306, 265.77181208053696, 269.7986577181208, 273.8255033557047, 277.8523489932886, 281.8791946308725, 285.9060402684564, 289.93288590604027, 293.9597315436242, 297.9865771812081, 302.013422818792, 306.0402684563759, 310.0671140939598, 314.09395973154363, 318.12080536912754, 322.14765100671144, 326.17449664429535, 330.20134228187925, 334.2281879194631, 338.255033557047, 342.2818791946309, 346.3087248322148, 350.3355704697987, 354.3624161073826, 358.38926174496646, 362.41610738255036, 366.44295302013427, 370.4697986577182, 374.4966442953021, 378.5234899328859, 382.5503355704698, 386.57718120805373, 390.60402684563763, 394.63087248322154, 398.6577181208054, 402.6845637583893, 406.7114093959732, 410.7382550335571, 414.765100671141, 418.79194630872485, 422.81879194630875, 426.84563758389265, 430.87248322147656, 434.89932885906046, 438.92617449664436, 442.9530201342282, 446.9798657718121, 451.006711409396, 455.0335570469799, 459.0604026845638, 463.0872483221477, 467.1140939597316, 471.1409395973155, 475.1677852348994, 479.1946308724833, 483.2214765100672, 487.24832214765104, 491.27516778523494, 495.30201342281885, 499.32885906040275, 503.35570469798665, 507.3825503355705, 511.4093959731544, 515.4362416107383, 519.4630872483222, 523.4899328859061, 527.51677852349, 531.5436241610739, 535.5704697986578, 539.5973154362416, 543.6241610738256, 547.6510067114094, 551.6778523489934, 555.7046979865772, 559.7315436241611, 563.758389261745, 567.7852348993289, 571.8120805369128, 575.8389261744967, 579.8657718120805, 583.8926174496645, 587.9194630872483, 591.9463087248323, 595.9731543624162, 600.0], \"y\": [57779622.0, 57774733.62531896, 57767853.44082005, 57757921.4614669, 57743583.920483716, 57722891.32666957, 57693036.660456926, 57649983.67921137, 57587940.10621382, 57498617.41548781, 57370204.13561105, 57185969.43031338, 56922420.37030112, 56546986.33746679, 56015345.47103981, 55268822.295931704, 54232874.97503698, 52818616.57257262, 50930392.483663686, 48482855.93284772, 45428990.912068404, 41794154.4472539, 37701378.013988115, 33367644.63558261, 29060969.976733543, 25033297.224435925, 21462982.392172046, 18432708.72606156, 15942735.705641044, 13941249.06411121, 12353779.04914158, 11103262.263033709, 10120426.714501245, 9347479.289141804, 8738167.425990501, 8256302.713249509, 7873882.32113662, 7569321.520991132, 7325974.109241508, 7130962.556201454, 6974279.887131904, 6848110.02084276, 6746316.251804116, 6664056.29149761, 6597491.585847104, 6543566.641354908, 6499840.415903924, 6464356.600325151, 6435543.12967424, 6412133.823877126, 6393106.909284037, 6377636.516730786, 6365054.227972773, 6354818.460007936, 6346489.99428605, 6339712.362788599, 6334196.076658395, 6329705.924533856, 6326050.712832104, 6323074.977530857, 6320652.271575922, 6318679.725263827, 6317073.634211757, 6315765.879041161, 6314701.016337353, 6313833.915425162, 6313127.837071788, 6312552.871257834, 6312084.666384369, 6311703.395391096, 6311392.914570079, 6311140.078879693, 6310934.184691032, 6310766.516177275, 6310629.976039106, 6310518.784869388, 6310428.23638407, 6310354.498132614, 6310294.449227308, 6310245.548214558, 6310205.725485152, 6310173.295666212, 6310146.886280779, 6310125.379654658, 6310107.865609889, 6310093.60294188, 6310081.98804899, 6310072.529386226, 6310064.826661969, 6310058.553896814, 6310053.44562784, 6310049.285673849, 6310045.897986431, 6310043.1391994655, 6310040.892561866, 6310039.062996635, 6310037.573077192, 6310036.359750673, 6310035.371669545, 6310034.5670186, 6310033.911745327, 6310033.37811883, 6310032.94355625, 6310032.589667084, 6310032.301474891, 6310032.066783502, 6310031.875660874, 6310031.720018783, 6310031.593270523, 6310031.490052162, 6310031.405995547, 6310031.337543435, 6310031.281798962, 6310031.236403047, 6310031.199434554, 6310031.169328998, 6310031.144812319, 6310031.124846985, 6310031.108588069, 6310031.095347504, 6310031.084564954, 6310031.075784106, 6310031.068633359, 6310031.062810096, 6310031.058067881, 6310031.054206024, 6310031.051061092, 6310031.048499995, 6310031.046414346, 6310031.044715884, 6310031.043332729, 6310031.042206345, 6310031.041289068, 6310031.0405420745, 6310031.039933755, 6310031.039438368, 6310031.039034945, 6310031.0387064135, 6310031.038438872, 6310031.038220998, 6310031.038043571, 6310031.037899081, 6310031.037781415, 6310031.037685593, 6310031.037607559, 6310031.03754401, 6310031.03749226, 6310031.037450116, 6310031.037415796, 6310031.037387848]}, {\"name\": \"Exposed\", \"type\": \"scatter\", \"x\": [0.0, 4.026845637583893, 8.053691275167786, 12.080536912751679, 16.107382550335572, 20.134228187919465, 24.161073825503358, 28.18791946308725, 32.214765100671144, 36.241610738255034, 40.26845637583893, 44.29530201342283, 48.322147651006716, 52.348993288590606, 56.3758389261745, 60.4026845637584, 64.42953020134229, 68.45637583892618, 72.48322147651007, 76.51006711409397, 80.53691275167786, 84.56375838926175, 88.59060402684565, 92.61744966442954, 96.64429530201343, 100.67114093959732, 104.69798657718121, 108.72483221476512, 112.751677852349, 116.7785234899329, 120.8053691275168, 124.83221476510069, 128.85906040268458, 132.88590604026848, 136.91275167785236, 140.93959731543626, 144.96644295302013, 148.99328859060404, 153.02013422818794, 157.04697986577182, 161.07382550335572, 165.10067114093962, 169.1275167785235, 173.1543624161074, 177.1812080536913, 181.20805369127518, 185.2348993288591, 189.26174496644296, 193.28859060402687, 197.31543624161077, 201.34228187919464, 205.36912751677855, 209.39597315436242, 213.42281879194633, 217.44966442953023, 221.4765100671141, 225.503355704698, 229.5302013422819, 233.5570469798658, 237.5838926174497, 241.6107382550336, 245.63758389261747, 249.66442953020137, 253.69127516778525, 257.71812080536915, 261.74496644295306, 265.77181208053696, 269.7986577181208, 273.8255033557047, 277.8523489932886, 281.8791946308725, 285.9060402684564, 289.93288590604027, 293.9597315436242, 297.9865771812081, 302.013422818792, 306.0402684563759, 310.0671140939598, 314.09395973154363, 318.12080536912754, 322.14765100671144, 326.17449664429535, 330.20134228187925, 334.2281879194631, 338.255033557047, 342.2818791946309, 346.3087248322148, 350.3355704697987, 354.3624161073826, 358.38926174496646, 362.41610738255036, 366.44295302013427, 370.4697986577182, 374.4966442953021, 378.5234899328859, 382.5503355704698, 386.57718120805373, 390.60402684563763, 394.63087248322154, 398.6577181208054, 402.6845637583893, 406.7114093959732, 410.7382550335571, 414.765100671141, 418.79194630872485, 422.81879194630875, 426.84563758389265, 430.87248322147656, 434.89932885906046, 438.92617449664436, 442.9530201342282, 446.9798657718121, 451.006711409396, 455.0335570469799, 459.0604026845638, 463.0872483221477, 467.1140939597316, 471.1409395973155, 475.1677852348994, 479.1946308724833, 483.2214765100672, 487.24832214765104, 491.27516778523494, 495.30201342281885, 499.32885906040275, 503.35570469798665, 507.3825503355705, 511.4093959731544, 515.4362416107383, 519.4630872483222, 523.4899328859061, 527.51677852349, 531.5436241610739, 535.5704697986578, 539.5973154362416, 543.6241610738256, 547.6510067114094, 551.6778523489934, 555.7046979865772, 559.7315436241611, 563.758389261745, 567.7852348993289, 571.8120805369128, 575.8389261744967, 579.8657718120805, 583.8926174496645, 587.9194630872483, 591.9463087248323, 595.9731543624162, 600.0], \"y\": [0.0, 1287.1720394200624, 1870.5037269690179, 2700.662368258155, 3898.42817123225, 5626.011832152099, 8116.258264258017, 11702.703118633279, 16861.34754304058, 24267.848025348263, 34873.70447019132, 50003.35733629827, 71468.72105339277, 101684.63094727095, 143741.7476519113, 201344.48043097014, 278446.76240108185, 378336.62518261967, 501911.6137778748, 645134.9907613432, 796400.3356779551, 935692.239604352, 1038008.5823381732, 1081700.3444954846, 1058004.1791675224, 975172.40862043, 853931.0444329056, 717970.5588875144, 586057.921430094, 469106.51183695736, 371208.9574523649, 292135.67288470006, 229586.6990844938, 180643.40404451994, 142509.74866715417, 112801.94450420844, 89603.91252837832, 71422.5874674712, 57112.48862459715, 45800.33814669161, 36820.82705152732, 29665.697542247737, 23944.837610882983, 19357.102258813004, 15668.607689166225, 12696.612508557777, 10297.519675088213, 8357.90134505021, 6787.74108911931, 5515.3080022217755, 4483.238687651173, 3645.51957422125, 2965.1458293483306, 2412.292752774816, 1962.8788010841783, 1597.4301618337606, 1300.1792923374924, 1058.3463738649232, 861.564241293363, 701.4168980890529, 571.0685045294815, 464.963940059923, 378.58717897882815, 308.2656944983702, 251.01219229404592, 204.39621397971953, 166.44000885244003, 135.53397873784672, 110.3680073652531, 89.87562333561671, 73.18863444750333, 59.600215252735325, 48.5348857709046, 39.52408493839462, 32.18629314792466, 26.21085460950801, 21.344809336611586, 17.382174058248694, 14.155215729265903, 11.527346983203591, 9.387341694355978, 7.644625265389506, 6.225439733109713, 5.069721168781344, 4.1285570027850635, 3.3621155461140395, 2.737959987804932, 2.2296754464679878, 1.8157509531886358, 1.478669009866791, 1.2041641978547082, 0.9806194223480349, 0.7985742531702996, 0.6503245423796261, 0.5295963773377723, 0.43128056233862755, 0.35121639358491824, 0.2860155761728719, 0.23291883030485958, 0.18967911888743647, 0.15446655224203465, 0.125790947393197, 0.10243876336408674, 0.08342174486220494, 0.06793509929026569, 0.05532343815026866, 0.04505304112284238, 0.03668926929435434, 0.02987817140500039, 0.024331504710464264, 0.019814536915557488, 0.016136111528037463, 0.013140559205400092, 0.010701109518848756, 0.008714525995049247, 0.00709673743517167, 0.005779279644101062, 0.004706398328220557, 0.003832689639225187, 0.0031211787090188042, 0.0025417546343474546, 0.0020698964271322817, 0.0016856352476902385, 0.001372709384769994, 0.001117876011684986, 0.0009103505499143556, 0.000741350682696752, 0.0006037244492502562, 0.0004916475318623389, 0.0004003768518719743, 0.0003260499425049042, 0.0002655212586289199, 0.00021622925919349356, 0.00017608794853175472, 0.00014339858707933785, 0.00011677781887773421, 9.509896808575235e-05, 7.744461546482434e-05, 6.306772177088474e-05, 5.135978174833233e-05, 4.1825310275567446e-05, 3.406081813165436e-05, 2.7737782370983932e-05, 2.2588567555962806e-05, 1.8395243200447434e-05, 1.4980364236387132e-05, 1.2199443713731106e-05, 9.934786787961663e-06, 8.090540982665281e-06, 6.5886436370347696e-06]}, {\"name\": \"Infected\", \"type\": \"scatter\", \"x\": [0.0, 4.026845637583893, 8.053691275167786, 12.080536912751679, 16.107382550335572, 20.134228187919465, 24.161073825503358, 28.18791946308725, 32.214765100671144, 36.241610738255034, 40.26845637583893, 44.29530201342283, 48.322147651006716, 52.348993288590606, 56.3758389261745, 60.4026845637584, 64.42953020134229, 68.45637583892618, 72.48322147651007, 76.51006711409397, 80.53691275167786, 84.56375838926175, 88.59060402684565, 92.61744966442954, 96.64429530201343, 100.67114093959732, 104.69798657718121, 108.72483221476512, 112.751677852349, 116.7785234899329, 120.8053691275168, 124.83221476510069, 128.85906040268458, 132.88590604026848, 136.91275167785236, 140.93959731543626, 144.96644295302013, 148.99328859060404, 153.02013422818794, 157.04697986577182, 161.07382550335572, 165.10067114093962, 169.1275167785235, 173.1543624161074, 177.1812080536913, 181.20805369127518, 185.2348993288591, 189.26174496644296, 193.28859060402687, 197.31543624161077, 201.34228187919464, 205.36912751677855, 209.39597315436242, 213.42281879194633, 217.44966442953023, 221.4765100671141, 225.503355704698, 229.5302013422819, 233.5570469798658, 237.5838926174497, 241.6107382550336, 245.63758389261747, 249.66442953020137, 253.69127516778525, 257.71812080536915, 261.74496644295306, 265.77181208053696, 269.7986577181208, 273.8255033557047, 277.8523489932886, 281.8791946308725, 285.9060402684564, 289.93288590604027, 293.9597315436242, 297.9865771812081, 302.013422818792, 306.0402684563759, 310.0671140939598, 314.09395973154363, 318.12080536912754, 322.14765100671144, 326.17449664429535, 330.20134228187925, 334.2281879194631, 338.255033557047, 342.2818791946309, 346.3087248322148, 350.3355704697987, 354.3624161073826, 358.38926174496646, 362.41610738255036, 366.44295302013427, 370.4697986577182, 374.4966442953021, 378.5234899328859, 382.5503355704698, 386.57718120805373, 390.60402684563763, 394.63087248322154, 398.6577181208054, 402.6845637583893, 406.7114093959732, 410.7382550335571, 414.765100671141, 418.79194630872485, 422.81879194630875, 426.84563758389265, 430.87248322147656, 434.89932885906046, 438.92617449664436, 442.9530201342282, 446.9798657718121, 451.006711409396, 455.0335570469799, 459.0604026845638, 463.0872483221477, 467.1140939597316, 471.1409395973155, 475.1677852348994, 479.1946308724833, 483.2214765100672, 487.24832214765104, 491.27516778523494, 495.30201342281885, 499.32885906040275, 503.35570469798665, 507.3825503355705, 511.4093959731544, 515.4362416107383, 519.4630872483222, 523.4899328859061, 527.51677852349, 531.5436241610739, 535.5704697986578, 539.5973154362416, 543.6241610738256, 547.6510067114094, 551.6778523489934, 555.7046979865772, 559.7315436241611, 563.758389261745, 567.7852348993289, 571.8120805369128, 575.8389261744967, 579.8657718120805, 583.8926174496645, 587.9194630872483, 591.9463087248323, 595.9731543624162, 600.0], \"y\": [6336.0, 7970.50532580071, 11499.031341820777, 16604.016520107463, 23972.85396000754, 34606.45639648378, 49945.301442041746, 72058.96873127988, 103913.90151448066, 149747.5897925586, 215583.26627195778, 309920.84947682935, 444629.33538586274, 636026.398239597, 906032.6294392697, 1283081.4927338904, 1802092.1794041973, 2502245.350696378, 3420686.8985359743, 4580193.669122986, 5970479.368436117, 7527531.668951135, 9122367.023271266, 10573964.333709998, 11692094.47089322, 12334697.313760968, 12449381.115194269, 12077658.419535598, 11326150.878203273, 10326243.745006379, 9201524.624031119, 8050338.488658935, 6941304.536906053, 5916401.4702646565, 4996990.268159654, 4190022.9384301975, 3493233.1492898916, 2899011.3057885035, 2397085.174339884, 1976261.2823190545, 1625486.1348534832, 1334441.8671515316, 1093837.4509675018, 895509.4868045662, 732410.0029677687, 598532.0756255621, 488805.5579628419, 398982.7017797092, 325525.2246329682, 265499.09397270123, 216479.99247954044, 176470.42890476662, 143828.30199700876, 117206.11229935447, 95499.71064415791, 77805.41440214495, 63384.30570102783, 51632.65942142346, 42057.5047761086, 34256.514771631686, 27901.471823578584, 22724.70449870555, 18507.976470330486, 15073.39704578956, 12275.987055409214, 9997.607293124935, 8142.00076826555, 6630.747222266293, 5399.962807214537, 4397.608754215296, 3581.29743643522, 2916.503842635038, 2375.108077177012, 1934.2077144354, 1575.1501497416023, 1282.7442737383021, 1044.6182815176605, 850.6965673141855, 692.7736308146442, 564.1670265838263, 459.43469851322635, 374.14476529605145, 304.6880232387729, 248.12524535055636, 202.06282023268736, 164.55147292137434, 134.003784077939, 109.12701836414358, 88.86842157062567, 72.37067158314206, 58.935599522373295, 47.99464477609715, 39.084794769930134, 31.82899104809048, 25.920172861788497, 21.108282751230576, 17.18968439291277, 13.998544921323806, 11.399817031738191, 9.28352393037596, 7.560105173745099, 6.156626541436874, 5.013693491847248, 4.082937647785659, 3.32496986302939, 2.707713296365713, 2.205045933273127, 1.7956951206379888, 1.4623373196305152, 1.190864979652599, 0.9697895262274515, 0.7897551275624445, 0.6431428097284837, 0.5237480069719839, 0.4265179831309536, 0.3473380140584753, 0.2828572341398707, 0.23034684255019156, 0.18758462366585826, 0.15276090419702362, 0.12440195614352542, 0.10130764057251795, 0.08250061586217604, 0.06718497961316787, 0.05471258370249305, 0.044555594870689136, 0.03628417722762238, 0.029548289943899683, 0.02406287147170121, 0.019595779710365635, 0.01595797264371744, 0.012995496793389334, 0.01058298178992599, 0.008618332042183714, 0.007018405565273365, 0.0057154963007062486, 0.0046544609717372185, 0.00379039801826849, 0.00308674484588428, 0.0025137191760151775, 0.002047070312734598, 0.001667050146598251, 0.001357579667934746, 0.0011055599049733175, 0.000900324612196962, 0.0007331890356037406, 0.0005970815015113545, 0.0004862416313224616, 0.000395978084852426, 0.0003224702148805947]}, {\"name\": \"Recovered\", \"type\": \"scatter\", \"x\": [0.0, 4.026845637583893, 8.053691275167786, 12.080536912751679, 16.107382550335572, 20.134228187919465, 24.161073825503358, 28.18791946308725, 32.214765100671144, 36.241610738255034, 40.26845637583893, 44.29530201342283, 48.322147651006716, 52.348993288590606, 56.3758389261745, 60.4026845637584, 64.42953020134229, 68.45637583892618, 72.48322147651007, 76.51006711409397, 80.53691275167786, 84.56375838926175, 88.59060402684565, 92.61744966442954, 96.64429530201343, 100.67114093959732, 104.69798657718121, 108.72483221476512, 112.751677852349, 116.7785234899329, 120.8053691275168, 124.83221476510069, 128.85906040268458, 132.88590604026848, 136.91275167785236, 140.93959731543626, 144.96644295302013, 148.99328859060404, 153.02013422818794, 157.04697986577182, 161.07382550335572, 165.10067114093962, 169.1275167785235, 173.1543624161074, 177.1812080536913, 181.20805369127518, 185.2348993288591, 189.26174496644296, 193.28859060402687, 197.31543624161077, 201.34228187919464, 205.36912751677855, 209.39597315436242, 213.42281879194633, 217.44966442953023, 221.4765100671141, 225.503355704698, 229.5302013422819, 233.5570469798658, 237.5838926174497, 241.6107382550336, 245.63758389261747, 249.66442953020137, 253.69127516778525, 257.71812080536915, 261.74496644295306, 265.77181208053696, 269.7986577181208, 273.8255033557047, 277.8523489932886, 281.8791946308725, 285.9060402684564, 289.93288590604027, 293.9597315436242, 297.9865771812081, 302.013422818792, 306.0402684563759, 310.0671140939598, 314.09395973154363, 318.12080536912754, 322.14765100671144, 326.17449664429535, 330.20134228187925, 334.2281879194631, 338.255033557047, 342.2818791946309, 346.3087248322148, 350.3355704697987, 354.3624161073826, 358.38926174496646, 362.41610738255036, 366.44295302013427, 370.4697986577182, 374.4966442953021, 378.5234899328859, 382.5503355704698, 386.57718120805373, 390.60402684563763, 394.63087248322154, 398.6577181208054, 402.6845637583893, 406.7114093959732, 410.7382550335571, 414.765100671141, 418.79194630872485, 422.81879194630875, 426.84563758389265, 430.87248322147656, 434.89932885906046, 438.92617449664436, 442.9530201342282, 446.9798657718121, 451.006711409396, 455.0335570469799, 459.0604026845638, 463.0872483221477, 467.1140939597316, 471.1409395973155, 475.1677852348994, 479.1946308724833, 483.2214765100672, 487.24832214765104, 491.27516778523494, 495.30201342281885, 499.32885906040275, 503.35570469798665, 507.3825503355705, 511.4093959731544, 515.4362416107383, 519.4630872483222, 523.4899328859061, 527.51677852349, 531.5436241610739, 535.5704697986578, 539.5973154362416, 543.6241610738256, 547.6510067114094, 551.6778523489934, 555.7046979865772, 559.7315436241611, 563.758389261745, 567.7852348993289, 571.8120805369128, 575.8389261744967, 579.8657718120805, 583.8926174496645, 587.9194630872483, 591.9463087248323, 595.9731543624162, 600.0], \"y\": [2549.0, 4511.7639211892565, 7274.554062921341, 11263.395925432107, 17022.79179025718, 25337.536691594643, 37339.06027709273, 54657.22364084621, 79637.15943921094, 115647.49640090457, 167515.29985952127, 242133.2341477612, 349293.6941131347, 502807.112079673, 721945.4755652867, 1033193.3114416396, 1472147.9949914385, 2085134.9326453062, 2929650.07001444, 4072166.8604534417, 5581456.209049904, 7516071.484902222, 9906904.97164162, 12739672.388839466, 15945488.594459275, 19406454.471076284, 22976173.121304344, 26507054.054924272, 29873700.467736106, 32985808.961687326, 35790275.478636146, 38266090.13227177, 40416199.76940914, 42259299.968875885, 43823022.976068296, 45138925.74300843, 46239129.13981101, 47154259.18058137, 47912323.655338414, 48538216.95568612, 49053621.40866114, 49477141.933634505, 49824564.74069824, 50109170.04920012, 50342056.02788897, 50532449.34516995, 50687989.47744523, 50814981.274956994, 50918614.700794466, 51003153.15459965, 51072093.08382969, 51128298.12372067, 51174111.1035525, 51211447.09267008, 51241870.4054362, 51266658.10706215, 51286852.28347156, 51303302.94753152, 51316703.24171422, 51327618.24061784, 51336508.5217198, 51343749.42908483, 51349646.80653466, 51354449.83730211, 51358361.524446115, 51361547.2369056, 51364141.678706795, 51366254.56984608, 51367975.27679544, 51369376.58599088, 51370517.77816031, 51371447.13342829, 51372203.97200133, 51372820.316519305, 51373322.246142976, 51373730.99948226, 51374063.87292402, 51374334.952279754, 51374555.70868229, 51374735.48389707, 51374881.8855697, 51375001.10911334, 51375098.19985574, 51375177.26652806, 51375241.65512685, 51375294.090502724, 51375336.791666545, 51375371.56569213, 51375399.88418718, 51375422.945569076, 51375441.725779235, 51375457.01958384, 51375469.474207275, 51375479.61672199, 51375487.87635357, 51375494.60264518, 51375500.08024999, 51375504.540977456, 51375508.173603415, 51375511.13185881, 51375513.5409356, 51375515.50278477, 51375517.1004309, 51375518.40148559, 51375519.46100893, 51375520.323839426, 51375521.02649169, 51375521.59870165, 51375522.064684965, 51375522.44416186, 51375522.753191605, 51375523.004852206, 51375523.209793836, 51375523.37668954, 51375523.51260227, 51375523.623283766, 51375523.71341806, 51375523.78681957, 51375523.846594624, 51375523.895272866, 51375523.93491434, 51375523.967196666, 51375523.99348602, 51375524.014894925, 51375524.03232943, 51375524.04652735, 51375524.058089525, 51375524.06750526, 51375524.075173035, 51375524.08141735, 51375524.086502455, 51375524.09064355, 51375524.094015874, 51375524.09676216, 51375524.09899861, 51375524.10081988, 51375524.10230305, 51375524.10351087, 51375524.104494475, 51375524.10529547, 51375524.10594778, 51375524.10647898, 51375524.10691157, 51375524.10726386, 51375524.10755074, 51375524.107784376, 51375524.10797463, 51375524.10812957, 51375524.10825575, 51375524.10835851]}, {\"name\": \"Dead\", \"type\": \"scatter\", \"x\": [0.0, 4.026845637583893, 8.053691275167786, 12.080536912751679, 16.107382550335572, 20.134228187919465, 24.161073825503358, 28.18791946308725, 32.214765100671144, 36.241610738255034, 40.26845637583893, 44.29530201342283, 48.322147651006716, 52.348993288590606, 56.3758389261745, 60.4026845637584, 64.42953020134229, 68.45637583892618, 72.48322147651007, 76.51006711409397, 80.53691275167786, 84.56375838926175, 88.59060402684565, 92.61744966442954, 96.64429530201343, 100.67114093959732, 104.69798657718121, 108.72483221476512, 112.751677852349, 116.7785234899329, 120.8053691275168, 124.83221476510069, 128.85906040268458, 132.88590604026848, 136.91275167785236, 140.93959731543626, 144.96644295302013, 148.99328859060404, 153.02013422818794, 157.04697986577182, 161.07382550335572, 165.10067114093962, 169.1275167785235, 173.1543624161074, 177.1812080536913, 181.20805369127518, 185.2348993288591, 189.26174496644296, 193.28859060402687, 197.31543624161077, 201.34228187919464, 205.36912751677855, 209.39597315436242, 213.42281879194633, 217.44966442953023, 221.4765100671141, 225.503355704698, 229.5302013422819, 233.5570469798658, 237.5838926174497, 241.6107382550336, 245.63758389261747, 249.66442953020137, 253.69127516778525, 257.71812080536915, 261.74496644295306, 265.77181208053696, 269.7986577181208, 273.8255033557047, 277.8523489932886, 281.8791946308725, 285.9060402684564, 289.93288590604027, 293.9597315436242, 297.9865771812081, 302.013422818792, 306.0402684563759, 310.0671140939598, 314.09395973154363, 318.12080536912754, 322.14765100671144, 326.17449664429535, 330.20134228187925, 334.2281879194631, 338.255033557047, 342.2818791946309, 346.3087248322148, 350.3355704697987, 354.3624161073826, 358.38926174496646, 362.41610738255036, 366.44295302013427, 370.4697986577182, 374.4966442953021, 378.5234899328859, 382.5503355704698, 386.57718120805373, 390.60402684563763, 394.63087248322154, 398.6577181208054, 402.6845637583893, 406.7114093959732, 410.7382550335571, 414.765100671141, 418.79194630872485, 422.81879194630875, 426.84563758389265, 430.87248322147656, 434.89932885906046, 438.92617449664436, 442.9530201342282, 446.9798657718121, 451.006711409396, 455.0335570469799, 459.0604026845638, 463.0872483221477, 467.1140939597316, 471.1409395973155, 475.1677852348994, 479.1946308724833, 483.2214765100672, 487.24832214765104, 491.27516778523494, 495.30201342281885, 499.32885906040275, 503.35570469798665, 507.3825503355705, 511.4093959731544, 515.4362416107383, 519.4630872483222, 523.4899328859061, 527.51677852349, 531.5436241610739, 535.5704697986578, 539.5973154362416, 543.6241610738256, 547.6510067114094, 551.6778523489934, 555.7046979865772, 559.7315436241611, 563.758389261745, 567.7852348993289, 571.8120805369128, 575.8389261744967, 579.8657718120805, 583.8926174496645, 587.9194630872483, 591.9463087248323, 595.9731543624162, 600.0], \"y\": [123.0, 126.93339463164179, 132.47004822228723, 140.463719289443, 152.00559477005433, 168.6684102035963, 192.71955967353233, 227.42529787744712, 277.4852894573363, 349.6502933885861, 453.5937872936296, 603.1287257470162, 817.8791465193084, 1125.521266692732, 1564.6763037380501, 2188.419461806893, 3068.0881663155083, 4296.518903096805, 5988.93400804497, 8278.546814535954, 11303.174767635071, 15180.159288381197, 19971.40876080485, 25648.297372423764, 32072.778746411364, 39008.5821063653, 46162.326896401486, 53238.2405910306, 59985.02698945111, 66221.71735809084, 71841.8907387498, 76803.44315084527, 81112.28009901638, 84805.86767309801, 87939.58111436534, 90576.66080763214, 92781.47723409018, 94615.40517150573, 96134.57245558796, 97388.86764666553, 98421.74230192612, 99270.48082892688, 99966.71891923498, 100537.07023887798, 101003.77560699188, 101385.32534102192, 101697.02901291626, 101951.52159310016, 102159.20380920732, 102328.61954829587, 102466.77571909751, 102579.41106958043, 102671.22064840172, 102746.04226987986, 102807.0108325374, 102856.68558529484, 102897.15487669648, 102930.12213934172, 102956.97643630102, 102978.85018159884, 102996.66637619196, 103011.17721259485, 103022.99560427785, 103032.6209164371, 103040.45996882986, 103046.84416213546, 103052.04344430218, 103056.2776950823, 103059.72600560209, 103062.53424046272, 103064.82119871808, 103066.68363412486, 103068.20034469207, 103069.43550404676, 103070.44137503607, 103071.26052000458, 103071.92760105019, 103072.47084625205, 103072.91324385232, 103073.27351482378, 103073.56690494932, 103073.80582988646, 103074.00040051254, 103074.15885075767, 103074.28788602576, 103074.39296693931, 103074.4785404139, 103074.54822783996, 103074.60497833104, 103074.65119352522, 103074.68882921692, 103074.71947812395, 103074.74443728913, 103074.76476296992, 103074.78131533782, 103074.79479488013, 103074.80577204408, 103074.81471137771, 103074.82199118925, 103074.82791955676, 103074.83274736596, 103074.83667892743, 103074.83988062307, 103074.84248794713, 103074.84461124038, 103074.8463403596, 103074.84774848036, 103074.84889519372, 103074.84982902804, 103074.85058950279, 103074.85120880086, 103074.85171313073, 103074.85212383543, 103074.85245829576, 103074.85273066597, 103074.85295247259, 103074.85313310243, 103074.85328019963, 103074.85339998931, 103074.8534975409, 103074.85357698274, 103074.85364167677, 103074.85369436086, 103074.85373726452, 103074.85377220341, 103074.85380065616, 103074.85382382687, 103074.85384269607, 103074.85385806237, 103074.85387057603, 103074.8538807666, 103074.8538890654, 103074.85389582357, 103074.85390132714, 103074.853905809, 103074.85390945882, 103074.85391243109, 103074.85391485158, 103074.85391682273, 103074.85391842794, 103074.85391973516, 103074.85392079971, 103074.85392166661, 103074.8539223726, 103074.85392294751, 103074.85392341572, 103074.853923797, 103074.85392410749, 103074.85392436036, 103074.85392456627]}],\n",
       "                        {\"template\": {\"data\": {\"bar\": [{\"error_x\": {\"color\": \"#2a3f5f\"}, \"error_y\": {\"color\": \"#2a3f5f\"}, \"marker\": {\"line\": {\"color\": \"#E5ECF6\", \"width\": 0.5}}, \"type\": \"bar\"}], \"barpolar\": [{\"marker\": {\"line\": {\"color\": \"#E5ECF6\", \"width\": 0.5}}, \"type\": \"barpolar\"}], \"carpet\": [{\"aaxis\": {\"endlinecolor\": \"#2a3f5f\", \"gridcolor\": \"white\", \"linecolor\": \"white\", \"minorgridcolor\": \"white\", \"startlinecolor\": \"#2a3f5f\"}, \"baxis\": {\"endlinecolor\": \"#2a3f5f\", \"gridcolor\": \"white\", \"linecolor\": \"white\", \"minorgridcolor\": \"white\", \"startlinecolor\": \"#2a3f5f\"}, \"type\": \"carpet\"}], \"choropleth\": [{\"colorbar\": {\"outlinewidth\": 0, \"ticks\": \"\"}, \"type\": \"choropleth\"}], \"contour\": [{\"colorbar\": {\"outlinewidth\": 0, \"ticks\": \"\"}, \"colorscale\": [[0.0, \"#0d0887\"], [0.1111111111111111, \"#46039f\"], [0.2222222222222222, \"#7201a8\"], [0.3333333333333333, \"#9c179e\"], [0.4444444444444444, \"#bd3786\"], [0.5555555555555556, \"#d8576b\"], [0.6666666666666666, \"#ed7953\"], [0.7777777777777778, \"#fb9f3a\"], [0.8888888888888888, \"#fdca26\"], [1.0, \"#f0f921\"]], \"type\": \"contour\"}], \"contourcarpet\": [{\"colorbar\": {\"outlinewidth\": 0, \"ticks\": \"\"}, \"type\": \"contourcarpet\"}], \"heatmap\": [{\"colorbar\": {\"outlinewidth\": 0, \"ticks\": \"\"}, \"colorscale\": [[0.0, \"#0d0887\"], [0.1111111111111111, \"#46039f\"], [0.2222222222222222, \"#7201a8\"], [0.3333333333333333, \"#9c179e\"], [0.4444444444444444, \"#bd3786\"], [0.5555555555555556, \"#d8576b\"], [0.6666666666666666, \"#ed7953\"], [0.7777777777777778, \"#fb9f3a\"], [0.8888888888888888, \"#fdca26\"], [1.0, \"#f0f921\"]], \"type\": \"heatmap\"}], \"heatmapgl\": [{\"colorbar\": {\"outlinewidth\": 0, \"ticks\": \"\"}, \"colorscale\": [[0.0, \"#0d0887\"], [0.1111111111111111, \"#46039f\"], [0.2222222222222222, \"#7201a8\"], [0.3333333333333333, \"#9c179e\"], [0.4444444444444444, \"#bd3786\"], [0.5555555555555556, \"#d8576b\"], [0.6666666666666666, \"#ed7953\"], [0.7777777777777778, \"#fb9f3a\"], [0.8888888888888888, \"#fdca26\"], [1.0, \"#f0f921\"]], \"type\": \"heatmapgl\"}], \"histogram\": [{\"marker\": {\"colorbar\": {\"outlinewidth\": 0, \"ticks\": \"\"}}, \"type\": \"histogram\"}], \"histogram2d\": [{\"colorbar\": {\"outlinewidth\": 0, \"ticks\": \"\"}, \"colorscale\": [[0.0, \"#0d0887\"], [0.1111111111111111, \"#46039f\"], [0.2222222222222222, \"#7201a8\"], [0.3333333333333333, \"#9c179e\"], [0.4444444444444444, \"#bd3786\"], [0.5555555555555556, \"#d8576b\"], [0.6666666666666666, \"#ed7953\"], [0.7777777777777778, \"#fb9f3a\"], [0.8888888888888888, \"#fdca26\"], [1.0, \"#f0f921\"]], \"type\": \"histogram2d\"}], \"histogram2dcontour\": [{\"colorbar\": {\"outlinewidth\": 0, \"ticks\": \"\"}, \"colorscale\": [[0.0, \"#0d0887\"], [0.1111111111111111, \"#46039f\"], [0.2222222222222222, \"#7201a8\"], [0.3333333333333333, \"#9c179e\"], [0.4444444444444444, \"#bd3786\"], [0.5555555555555556, \"#d8576b\"], [0.6666666666666666, \"#ed7953\"], [0.7777777777777778, \"#fb9f3a\"], [0.8888888888888888, \"#fdca26\"], [1.0, \"#f0f921\"]], \"type\": \"histogram2dcontour\"}], \"mesh3d\": [{\"colorbar\": {\"outlinewidth\": 0, \"ticks\": \"\"}, \"type\": \"mesh3d\"}], \"parcoords\": [{\"line\": {\"colorbar\": {\"outlinewidth\": 0, \"ticks\": \"\"}}, \"type\": \"parcoords\"}], \"pie\": [{\"automargin\": true, \"type\": \"pie\"}], \"scatter\": [{\"marker\": {\"colorbar\": {\"outlinewidth\": 0, \"ticks\": \"\"}}, \"type\": \"scatter\"}], \"scatter3d\": [{\"line\": {\"colorbar\": {\"outlinewidth\": 0, \"ticks\": \"\"}}, \"marker\": {\"colorbar\": {\"outlinewidth\": 0, \"ticks\": \"\"}}, \"type\": \"scatter3d\"}], \"scattercarpet\": [{\"marker\": {\"colorbar\": {\"outlinewidth\": 0, \"ticks\": \"\"}}, \"type\": \"scattercarpet\"}], \"scattergeo\": [{\"marker\": {\"colorbar\": {\"outlinewidth\": 0, \"ticks\": \"\"}}, \"type\": \"scattergeo\"}], \"scattergl\": [{\"marker\": {\"colorbar\": {\"outlinewidth\": 0, \"ticks\": \"\"}}, \"type\": \"scattergl\"}], \"scattermapbox\": [{\"marker\": {\"colorbar\": {\"outlinewidth\": 0, \"ticks\": \"\"}}, \"type\": \"scattermapbox\"}], \"scatterpolar\": [{\"marker\": {\"colorbar\": {\"outlinewidth\": 0, \"ticks\": \"\"}}, \"type\": \"scatterpolar\"}], \"scatterpolargl\": [{\"marker\": {\"colorbar\": {\"outlinewidth\": 0, \"ticks\": \"\"}}, \"type\": \"scatterpolargl\"}], \"scatterternary\": [{\"marker\": {\"colorbar\": {\"outlinewidth\": 0, \"ticks\": \"\"}}, \"type\": \"scatterternary\"}], \"surface\": [{\"colorbar\": {\"outlinewidth\": 0, \"ticks\": \"\"}, \"colorscale\": [[0.0, \"#0d0887\"], [0.1111111111111111, \"#46039f\"], [0.2222222222222222, \"#7201a8\"], [0.3333333333333333, \"#9c179e\"], [0.4444444444444444, \"#bd3786\"], [0.5555555555555556, \"#d8576b\"], [0.6666666666666666, \"#ed7953\"], [0.7777777777777778, \"#fb9f3a\"], [0.8888888888888888, \"#fdca26\"], [1.0, \"#f0f921\"]], \"type\": \"surface\"}], \"table\": [{\"cells\": {\"fill\": {\"color\": \"#EBF0F8\"}, \"line\": {\"color\": \"white\"}}, \"header\": {\"fill\": {\"color\": \"#C8D4E3\"}, \"line\": {\"color\": \"white\"}}, \"type\": \"table\"}]}, \"layout\": {\"annotationdefaults\": {\"arrowcolor\": \"#2a3f5f\", \"arrowhead\": 0, \"arrowwidth\": 1}, \"coloraxis\": {\"colorbar\": {\"outlinewidth\": 0, \"ticks\": \"\"}}, \"colorscale\": {\"diverging\": [[0, \"#8e0152\"], [0.1, \"#c51b7d\"], [0.2, \"#de77ae\"], [0.3, \"#f1b6da\"], [0.4, \"#fde0ef\"], [0.5, \"#f7f7f7\"], [0.6, \"#e6f5d0\"], [0.7, \"#b8e186\"], [0.8, \"#7fbc41\"], [0.9, \"#4d9221\"], [1, \"#276419\"]], \"sequential\": [[0.0, \"#0d0887\"], [0.1111111111111111, \"#46039f\"], [0.2222222222222222, \"#7201a8\"], [0.3333333333333333, \"#9c179e\"], [0.4444444444444444, \"#bd3786\"], [0.5555555555555556, \"#d8576b\"], [0.6666666666666666, \"#ed7953\"], [0.7777777777777778, \"#fb9f3a\"], [0.8888888888888888, \"#fdca26\"], [1.0, \"#f0f921\"]], \"sequentialminus\": [[0.0, \"#0d0887\"], [0.1111111111111111, \"#46039f\"], [0.2222222222222222, \"#7201a8\"], [0.3333333333333333, \"#9c179e\"], [0.4444444444444444, \"#bd3786\"], [0.5555555555555556, \"#d8576b\"], [0.6666666666666666, \"#ed7953\"], [0.7777777777777778, \"#fb9f3a\"], [0.8888888888888888, \"#fdca26\"], [1.0, \"#f0f921\"]]}, \"colorway\": [\"#636efa\", \"#EF553B\", \"#00cc96\", \"#ab63fa\", \"#FFA15A\", \"#19d3f3\", \"#FF6692\", \"#B6E880\", \"#FF97FF\", \"#FECB52\"], \"font\": {\"color\": \"#2a3f5f\"}, \"geo\": {\"bgcolor\": \"white\", \"lakecolor\": \"white\", \"landcolor\": \"#E5ECF6\", \"showlakes\": true, \"showland\": true, \"subunitcolor\": \"white\"}, \"hoverlabel\": {\"align\": \"left\"}, \"hovermode\": \"closest\", \"mapbox\": {\"style\": \"light\"}, \"paper_bgcolor\": \"white\", \"plot_bgcolor\": \"#E5ECF6\", \"polar\": {\"angularaxis\": {\"gridcolor\": \"white\", \"linecolor\": \"white\", \"ticks\": \"\"}, \"bgcolor\": \"#E5ECF6\", \"radialaxis\": {\"gridcolor\": \"white\", \"linecolor\": \"white\", \"ticks\": \"\"}}, \"scene\": {\"xaxis\": {\"backgroundcolor\": \"#E5ECF6\", \"gridcolor\": \"white\", \"gridwidth\": 2, \"linecolor\": \"white\", \"showbackground\": true, \"ticks\": \"\", \"zerolinecolor\": \"white\"}, \"yaxis\": {\"backgroundcolor\": \"#E5ECF6\", \"gridcolor\": \"white\", \"gridwidth\": 2, \"linecolor\": \"white\", \"showbackground\": true, \"ticks\": \"\", \"zerolinecolor\": \"white\"}, \"zaxis\": {\"backgroundcolor\": \"#E5ECF6\", \"gridcolor\": \"white\", \"gridwidth\": 2, \"linecolor\": \"white\", \"showbackground\": true, \"ticks\": \"\", \"zerolinecolor\": \"white\"}}, \"shapedefaults\": {\"line\": {\"color\": \"#2a3f5f\"}}, \"ternary\": {\"aaxis\": {\"gridcolor\": \"white\", \"linecolor\": \"white\", \"ticks\": \"\"}, \"baxis\": {\"gridcolor\": \"white\", \"linecolor\": \"white\", \"ticks\": \"\"}, \"bgcolor\": \"#E5ECF6\", \"caxis\": {\"gridcolor\": \"white\", \"linecolor\": \"white\", \"ticks\": \"\"}}, \"title\": {\"x\": 0.05}, \"xaxis\": {\"automargin\": true, \"gridcolor\": \"white\", \"linecolor\": \"white\", \"ticks\": \"\", \"title\": {\"standoff\": 15}, \"zerolinecolor\": \"white\", \"zerolinewidth\": 2}, \"yaxis\": {\"automargin\": true, \"gridcolor\": \"white\", \"linecolor\": \"white\", \"ticks\": \"\", \"title\": {\"standoff\": 15}, \"zerolinecolor\": \"white\", \"zerolinewidth\": 2}}}, \"title\": {\"text\": \"SEIRD model South Africa\"}, \"xaxis\": {\"overlaying\": \"x\", \"side\": \"bottom\", \"title\": {\"text\": \"Days\"}}, \"yaxis\": {\"title\": {\"text\": \"Number\"}}},\n",
       "                        {\"responsive\": true}\n",
       "                    ).then(function(){\n",
       "                            \n",
       "var gd = document.getElementById('99eed706-6faf-4b80-86b2-a6413390959a');\n",
       "var x = new MutationObserver(function (mutations, observer) {{\n",
       "        var display = window.getComputedStyle(gd).display;\n",
       "        if (!display || display === 'none') {{\n",
       "            console.log([gd, 'removed!']);\n",
       "            Plotly.purge(gd);\n",
       "            observer.disconnect();\n",
       "        }}\n",
       "}});\n",
       "\n",
       "// Listen for the removal of the full notebook cells\n",
       "var notebookContainer = gd.closest('#notebook-container');\n",
       "if (notebookContainer) {{\n",
       "    x.observe(notebookContainer, {childList: true});\n",
       "}}\n",
       "\n",
       "// Listen for the clearing of the current output cell\n",
       "var outputEl = gd.closest('.output');\n",
       "if (outputEl) {{\n",
       "    x.observe(outputEl, {childList: true});\n",
       "}}\n",
       "\n",
       "                        })\n",
       "                };\n",
       "                });\n",
       "            </script>\n",
       "        </div>"
      ]
     },
     "metadata": {},
     "output_type": "display_data"
    }
   ],
   "source": [
    "trace0=(go.Scatter(x=t,\n",
    "                    y=S,\n",
    "                    name='Susceptible'))\n",
    "trace1=(go.Scatter(x=t,\n",
    "                  y=E,\n",
    "                  name='Exposed'))\n",
    "trace2=(go.Scatter(x=t,\n",
    "                  y=I,\n",
    "                  name='Infected'))\n",
    "trace3=(go.Scatter(x=t,\n",
    "                  y=R,\n",
    "                  name='Recovered'))\n",
    "trace4=(go.Scatter(x=t,\n",
    "                  y=D,\n",
    "                  name='Dead'))\n",
    "\n",
    "layout = go.Layout(\n",
    "    title='SEIRD model South Africa',\n",
    "    yaxis=dict(\n",
    "        title='Number'\n",
    "    ),\n",
    "    xaxis=dict(\n",
    "        title='Days',\n",
    "        overlaying='x',\n",
    "        side='bottom'\n",
    "    )\n",
    ")\n",
    "  \n",
    "    \n",
    "fig = go.Figure(data=[trace0, trace1, trace2, trace3, trace4], layout=layout)\n",
    "fig.show()\n",
    "#pyo.plot(fig, filename='compare_confirmed_province', auto_open=False)\n"
   ]
  },
  {
   "cell_type": "code",
   "execution_count": null,
   "metadata": {},
   "outputs": [],
   "source": []
  }
 ],
 "metadata": {
  "kernelspec": {
   "display_name": "Python 3",
   "language": "python",
   "name": "python3"
  },
  "language_info": {
   "codemirror_mode": {
    "name": "ipython",
    "version": 3
   },
   "file_extension": ".py",
   "mimetype": "text/x-python",
   "name": "python",
   "nbconvert_exporter": "python",
   "pygments_lexer": "ipython3",
   "version": "3.7.6"
  }
 },
 "nbformat": 4,
 "nbformat_minor": 4
}
